{
 "cells": [
  {
   "cell_type": "code",
   "execution_count": 1,
   "metadata": {
    "collapsed": false
   },
   "outputs": [
    {
     "name": "stdout",
     "output_type": "stream",
     "text": [
      "15\n"
     ]
    }
   ],
   "source": [
    "import sys,os\n",
    "add_path = os.path.abspath('../python')\n",
    "if not add_path in sys.path:\n",
    "    sys.path.append(add_path)\n",
    "print(sys.path.index(add_path))"
   ]
  },
  {
   "cell_type": "code",
   "execution_count": 2,
   "metadata": {
    "collapsed": false,
    "scrolled": false
   },
   "outputs": [],
   "source": [
    "import time\n",
    "import numpy as np\n",
    "from numpy import vstack, hstack\n",
    "from segbench import csaAssign, correspondPixels,correspondVoxels, matchEdgeMaps2D, matchEdgeMaps3D"
   ]
  },
  {
   "cell_type": "code",
   "execution_count": 3,
   "metadata": {
    "collapsed": false
   },
   "outputs": [
    {
     "name": "stdout",
     "output_type": "stream",
     "text": [
      "[[ 1.  5.  1.]\n",
      " [ 2.  6.  1.]\n",
      " [ 3.  4.  5.]]\n"
     ]
    }
   ],
   "source": [
    "data = np.array([[1, 4, 3],\n",
    "    [2, 5, 3],\n",
    "    [3, 6, 3],\n",
    "    [1, 5, 1],\n",
    "    [2, 6, 1],\n",
    "    [3, 4, 5]])\n",
    "n = 6\n",
    "e1 = csaAssign(n,data)\n",
    "print e1"
   ]
  },
  {
   "cell_type": "code",
   "execution_count": 4,
   "metadata": {
    "collapsed": false
   },
   "outputs": [
    {
     "name": "stdout",
     "output_type": "stream",
     "text": [
      "5.577e-02s\n",
      "1000 500161 [  4.00000000e+00   1.00500000e+03   1.00000000e+00]\n"
     ]
    }
   ],
   "source": [
    "# Unit test for csaAssign.\n",
    "n = 1000\n",
    "dg = np.random.rand(n,n)>.5\n",
    "m = np.sum(dg.flat)\n",
    "i = np.array(dg.ravel().nonzero()).astype(float)\n",
    "g1 = 1+np.floor(np.divide(i,n))\n",
    "g2 = (1+np.floor(np.divide(i,n)),\n",
    "     1+ np.mod(i,n)+n,\n",
    "     1+np.floor(np.random.rand(1,m))*1000)\n",
    "g2 = np.array(np.vstack(g2)).T\n",
    "t = time.time()\n",
    "e2 = csaAssign(n*2,g2)\n",
    "print '{:.3e}s'.format(time.time() - t)\n",
    "esum = np.sum(e2,axis=0)\n",
    "if not all(esum[0:2]==(n*(n+1)/2,n*(n+1)/2+n*n)): raise ValueError(\"bug\")\n",
    "if not np.sum(esum[0:2])==(2*n*(2*n+1)/2): raise ValueError(\"bug\")\n",
    "print n,m, e2[3][:]"
   ]
  },
  {
   "cell_type": "code",
   "execution_count": 5,
   "metadata": {
    "collapsed": false,
    "scrolled": true
   },
   "outputs": [
    {
     "name": "stdout",
     "output_type": "stream",
     "text": [
      "n=1 thresh=0.00e+00 8.70e-05s 2 0 2\n",
      "n=1 thresh=1.11e-01 4.98e-05s 2 0 2\n",
      "n=1 thresh=2.22e-01 4.29e-05s 2 0 2\n",
      "n=1 thresh=3.33e-01 2.50e-05s 1 0 1\n",
      "n=1 thresh=4.44e-01 3.89e-05s 2 0 2\n",
      "n=1 thresh=5.56e-01 2.60e-05s 1 0 1\n",
      "n=1 thresh=6.67e-01 3.19e-05s 0 0 0\n",
      "n=1 thresh=7.78e-01 2.41e-05s 0 0 0\n",
      "n=1 thresh=8.89e-01 2.29e-05s 0 0 0\n",
      "n=1 thresh=1.00e+00 2.29e-05s 0 0 0\n",
      "n=2 thresh=0.00e+00 7.70e-05s 8 6 2\n",
      "n=2 thresh=1.11e-01 7.70e-05s 8 6 2\n",
      "n=2 thresh=2.22e-01 6.29e-05s 5 2 3\n",
      "n=2 thresh=3.33e-01 5.79e-05s 6 2 4\n",
      "n=2 thresh=4.44e-01 4.32e-05s 4 2 2\n",
      "n=2 thresh=5.56e-01 4.10e-05s 5 2 3\n",
      "n=2 thresh=6.67e-01 2.72e-05s 1 0 1\n",
      "n=2 thresh=7.78e-01 2.50e-05s 2 0 2\n",
      "n=2 thresh=8.89e-01 2.60e-05s 2 0 2\n",
      "n=2 thresh=1.00e+00 2.31e-05s 0 0 0\n",
      "n=3 thresh=0.00e+00 1.74e-04s 18 16 2\n",
      "n=3 thresh=1.11e-01 1.59e-04s 16 12 4\n",
      "n=3 thresh=2.22e-01 9.51e-05s 12 10 2\n",
      "n=3 thresh=3.33e-01 7.70e-05s 12 8 4\n",
      "n=3 thresh=4.44e-01 4.82e-05s 7 2 5\n",
      "n=3 thresh=5.56e-01 4.60e-05s 8 4 4\n",
      "n=3 thresh=6.67e-01 4.10e-05s 6 2 4\n",
      "n=3 thresh=7.78e-01 2.60e-05s 5 0 5\n",
      "n=3 thresh=8.89e-01 2.50e-05s 2 0 2\n",
      "n=3 thresh=1.00e+00 2.50e-05s 0 0 0\n",
      "n=5 thresh=0.00e+00 5.61e-04s 50 48 2\n",
      "n=5 thresh=1.11e-01 4.31e-04s 43 34 9\n",
      "n=5 thresh=2.22e-01 3.21e-04s 41 30 11\n",
      "n=5 thresh=3.33e-01 2.68e-04s 38 24 14\n",
      "n=5 thresh=4.44e-01 1.44e-04s 27 12 15\n",
      "n=5 thresh=5.56e-01 1.15e-04s 21 6 15\n",
      "n=5 thresh=6.67e-01 1.48e-04s 20 12 8\n",
      "n=5 thresh=7.78e-01 8.89e-05s 18 8 10\n",
      "n=5 thresh=8.89e-01 3.10e-05s 6 0 6\n",
      "n=5 thresh=1.00e+00 3.00e-05s 0 0 0\n",
      "n=8 thresh=0.00e+00 1.58e-03s 128 126 2\n",
      "n=8 thresh=1.11e-01 1.23e-03s 112 102 10\n",
      "n=8 thresh=2.22e-01 9.79e-04s 100 74 26\n",
      "n=8 thresh=3.33e-01 5.47e-04s 86 50 36\n",
      "n=8 thresh=4.44e-01 3.81e-04s 71 36 35\n",
      "n=8 thresh=5.56e-01 1.86e-04s 54 18 36\n",
      "n=8 thresh=6.67e-01 1.80e-04s 40 16 24\n",
      "n=8 thresh=7.78e-01 9.42e-05s 40 8 32\n",
      "n=8 thresh=8.89e-01 7.70e-05s 21 6 15\n",
      "n=8 thresh=1.00e+00 4.10e-05s 0 0 0\n",
      "n=13 thresh=0.00e+00 4.82e-03s 338 336 2\n",
      "n=13 thresh=1.11e-01 3.74e-03s 300 264 36\n",
      "n=13 thresh=2.22e-01 2.55e-03s 258 192 66\n",
      "n=13 thresh=3.33e-01 1.38e-03s 222 146 76\n",
      "n=13 thresh=4.44e-01 8.10e-04s 189 106 83\n",
      "n=13 thresh=5.56e-01 7.33e-04s 174 92 82\n",
      "n=13 thresh=6.67e-01 3.52e-04s 125 46 79\n",
      "n=13 thresh=7.78e-01 9.70e-05s 79 10 69\n",
      "n=13 thresh=8.89e-01 5.29e-05s 33 2 31\n",
      "n=13 thresh=1.00e+00 3.60e-05s 0 0 0\n",
      "n=22 thresh=0.00e+00 1.28e-02s 968 966 2\n",
      "n=22 thresh=1.11e-01 1.05e-02s 879 792 87\n",
      "n=22 thresh=2.22e-01 9.63e-03s 748 572 176\n",
      "n=22 thresh=3.33e-01 6.18e-03s 665 462 203\n",
      "n=22 thresh=4.44e-01 2.81e-03s 518 260 258\n",
      "n=22 thresh=5.56e-01 2.02e-03s 465 234 231\n",
      "n=22 thresh=6.67e-01 1.03e-03s 334 108 226\n",
      "n=22 thresh=7.78e-01 3.80e-04s 204 50 154\n",
      "n=22 thresh=8.89e-01 1.41e-04s 107 10 97\n",
      "n=22 thresh=1.00e+00 6.41e-05s 0 0 0\n",
      "n=36 thresh=0.00e+00 4.11e-02s 2592 2588 4\n",
      "n=36 thresh=1.11e-01 3.16e-02s 2298 2034 264\n",
      "n=36 thresh=2.22e-01 2.36e-02s 2013 1568 445\n",
      "n=36 thresh=3.33e-01 1.66e-02s 1713 1140 573\n",
      "n=36 thresh=4.44e-01 1.12e-02s 1456 796 660\n",
      "n=36 thresh=5.56e-01 6.01e-03s 1144 520 624\n",
      "n=36 thresh=6.67e-01 3.74e-03s 871 302 569\n",
      "n=36 thresh=7.78e-01 1.33e-03s 566 138 428\n",
      "n=36 thresh=8.89e-01 4.19e-04s 323 36 287\n",
      "n=36 thresh=1.00e+00 1.31e-04s 0 0 0\n",
      "n=60 thresh=0.00e+00 1.50e-01s 7200 7184 16\n",
      "n=60 thresh=1.11e-01 1.16e-01s 6401 5652 749\n",
      "n=60 thresh=2.22e-01 8.99e-02s 5637 4416 1221\n",
      "n=60 thresh=3.33e-01 6.83e-02s 4806 3198 1608\n",
      "n=60 thresh=4.44e-01 3.83e-02s 3963 2180 1783\n",
      "n=60 thresh=5.56e-01 1.94e-02s 3122 1370 1752\n",
      "n=60 thresh=6.67e-01 1.16e-02s 2405 812 1593\n",
      "n=60 thresh=7.78e-01 6.24e-03s 1625 346 1279\n",
      "n=60 thresh=8.89e-01 1.76e-03s 814 98 716\n",
      "n=60 thresh=1.00e+00 3.29e-04s 0 0 0\n",
      "n=100 thresh=0.00e+00 5.96e-01s 20000 19936 64\n",
      "n=100 thresh=1.11e-01 4.14e-01s 17748 15740 2008\n",
      "n=100 thresh=2.22e-01 3.52e-01s 15528 12024 3504\n",
      "n=100 thresh=3.33e-01 2.05e-01s 13305 8802 4503\n",
      "n=100 thresh=4.44e-01 1.31e-01s 11028 6090 4938\n",
      "n=100 thresh=5.56e-01 8.56e-02s 8992 4114 4878\n",
      "n=100 thresh=6.67e-01 3.83e-02s 6647 2218 4429\n",
      "n=100 thresh=7.78e-01 1.56e-02s 4431 928 3503\n",
      "n=100 thresh=8.89e-01 5.31e-03s 2233 272 1961\n",
      "n=100 thresh=1.00e+00 7.78e-04s 0 0 0\n"
     ]
    }
   ],
   "source": [
    "# Unit test for correspondPixels.\n",
    "for n in np.round(np.logspace(0,2,10)).astype(int):\n",
    "    for thresh in np.linspace(0,1,10):\n",
    "        print 'n={:d} thresh={:1.2e}'.format(n,thresh),\n",
    "        bmap1 = (np.random.rand(n,n)>thresh).astype(float)\n",
    "        bmap2 = (np.random.rand(n,n)>thresh).astype(float)\n",
    "        t = time.time()\n",
    "        cost,oc,match1,match2 = correspondPixels(bmap1,bmap2,.005)\n",
    "        print '{:1.2e}s'.format(time.time() - t),\n",
    "        npix = len(bmap1.nonzero()[0]) + len(bmap2.nonzero()[0])\n",
    "        ncor = len(match1.nonzero()[0]) + len(match1.nonzero()[0])\n",
    "        nout = len(((bmap1>0)&(match1==0)).nonzero()[0]) + len(((bmap2>0)&(match2==0)).nonzero()[0])\n",
    "        print npix,ncor,nout\n",
    "        if ncor+nout!=npix: raise ValueError(\"bug\")\n",
    "\n",
    "        match1f = match1.ravel()\n",
    "        idx1 = match1f.astype(int)\n",
    "        a1 = match1f.nonzero()[0]\n",
    "        a2 = match1f[idx1.nonzero()[0]].ravel()\n",
    "        a = vstack((a1,a2)).T\n",
    "\n",
    "        match2f = match2.ravel()\n",
    "        idx2 = match2f.astype(int)\n",
    "        b1 = match2f.nonzero()[0]\n",
    "        b2 = match2f[idx2.nonzero()[0]].ravel()\n",
    "        b = vstack((b2,b1)).T\n",
    "        b = b[b[:,0].argsort(),]\n",
    "        if np.sum(a-b): raise ValueError(\"bug\")"
   ]
  },
  {
   "cell_type": "code",
   "execution_count": 6,
   "metadata": {
    "collapsed": false,
    "scrolled": true
   },
   "outputs": [
    {
     "name": "stdout",
     "output_type": "stream",
     "text": [
      "n=1 thresh=0.00e+00 5.89e-05s 0 + 2 = 2 == 2\n",
      "n=1 thresh=1.11e-01 3.19e-05s 0 + 2 = 2 == 2\n",
      "n=1 thresh=2.22e-01 2.91e-05s 0 + 2 = 2 == 2\n",
      "n=1 thresh=3.33e-01 1.69e-05s 0 + 1 = 1 == 1\n",
      "n=1 thresh=4.44e-01 1.60e-05s 0 + 1 = 1 == 1\n",
      "n=1 thresh=5.56e-01 1.62e-05s 0 + 1 = 1 == 1\n",
      "n=1 thresh=6.67e-01 1.50e-05s 0 + 1 = 1 == 1\n",
      "n=1 thresh=7.78e-01 2.81e-05s 0 + 2 = 2 == 2\n",
      "n=1 thresh=8.89e-01 2.31e-05s 0 + 0 = 0 == 0\n",
      "n=1 thresh=1.00e+00 1.50e-05s 0 + 0 = 0 == 0\n",
      "n=2 thresh=0.00e+00 5.60e-05s 6 + 2 = 8 == 8\n",
      "n=2 thresh=1.11e-01 3.91e-05s 4 + 3 = 7 == 7\n",
      "n=2 thresh=2.22e-01 3.79e-05s 4 + 3 = 7 == 7\n",
      "n=2 thresh=3.33e-01 2.81e-05s 2 + 3 = 5 == 5\n",
      "n=2 thresh=4.44e-01 1.41e-05s 0 + 3 = 3 == 3\n",
      "n=2 thresh=5.56e-01 2.69e-05s 2 + 0 = 2 == 2\n",
      "n=2 thresh=6.67e-01 1.41e-05s 0 + 3 = 3 == 3\n",
      "n=2 thresh=7.78e-01 1.41e-05s 0 + 1 = 1 == 1\n",
      "n=2 thresh=8.89e-01 2.72e-05s 2 + 0 = 2 == 2\n",
      "n=2 thresh=1.00e+00 1.38e-05s 0 + 0 = 0 == 0\n",
      "n=3 thresh=0.00e+00 1.59e-04s 16 + 2 = 18 == 18\n",
      "n=3 thresh=1.11e-01 1.34e-04s 14 + 3 = 17 == 17\n",
      "n=3 thresh=2.22e-01 9.80e-05s 10 + 4 = 14 == 14\n",
      "n=3 thresh=3.33e-01 3.41e-05s 4 + 6 = 10 == 10\n",
      "n=3 thresh=4.44e-01 8.20e-05s 8 + 6 = 14 == 14\n",
      "n=3 thresh=5.56e-01 1.72e-05s 0 + 3 = 3 == 3\n",
      "n=3 thresh=6.67e-01 1.60e-05s 0 + 6 = 6 == 6\n",
      "n=3 thresh=7.78e-01 1.62e-05s 0 + 2 = 2 == 2\n",
      "n=3 thresh=8.89e-01 2.81e-05s 2 + 0 = 2 == 2\n",
      "n=3 thresh=1.00e+00 1.60e-05s 0 + 0 = 0 == 0\n",
      "n=5 thresh=0.00e+00 3.60e-04s 48 + 2 = 50 == 50\n",
      "n=5 thresh=1.11e-01 3.09e-04s 42 + 5 = 47 == 47\n",
      "n=5 thresh=2.22e-01 1.85e-04s 22 + 12 = 34 == 34\n",
      "n=5 thresh=3.33e-01 1.22e-04s 14 + 14 = 28 == 28\n",
      "n=5 thresh=4.44e-01 1.64e-04s 22 + 13 = 35 == 35\n",
      "n=5 thresh=5.56e-01 9.11e-05s 8 + 11 = 19 == 19\n",
      "n=5 thresh=6.67e-01 3.60e-05s 2 + 7 = 9 == 9\n",
      "n=5 thresh=7.78e-01 3.29e-05s 2 + 12 = 14 == 14\n",
      "n=5 thresh=8.89e-01 2.00e-05s 0 + 5 = 5 == 5\n",
      "n=5 thresh=1.00e+00 2.88e-05s 0 + 0 = 0 == 0\n",
      "n=8 thresh=0.00e+00 1.23e-03s 126 + 2 = 128 == 128\n",
      "n=8 thresh=1.11e-01 1.31e-03s 106 + 12 = 118 == 118\n",
      "n=8 thresh=2.22e-01 6.52e-04s 66 + 26 = 92 == 92\n",
      "n=8 thresh=3.33e-01 5.45e-04s 50 + 35 = 85 == 85\n",
      "n=8 thresh=4.44e-01 3.34e-04s 44 + 29 = 73 == 73\n",
      "n=8 thresh=5.56e-01 1.72e-04s 22 + 32 = 54 == 54\n",
      "n=8 thresh=6.67e-01 1.37e-04s 16 + 29 = 45 == 45\n",
      "n=8 thresh=7.78e-01 1.06e-04s 12 + 12 = 24 == 24\n",
      "n=8 thresh=8.89e-01 4.01e-05s 2 + 12 = 14 == 14\n",
      "n=8 thresh=1.00e+00 2.41e-05s 0 + 0 = 0 == 0\n",
      "n=13 thresh=0.00e+00 4.09e-03s 336 + 2 = 338 == 338\n",
      "n=13 thresh=1.11e-01 2.75e-03s 266 + 34 = 300 == 300\n",
      "n=13 thresh=2.22e-01 1.71e-03s 212 + 56 = 268 == 268\n",
      "n=13 thresh=3.33e-01 1.36e-03s 150 + 70 = 220 == 220\n",
      "n=13 thresh=4.44e-01 9.16e-04s 100 + 83 = 183 == 183\n",
      "n=13 thresh=5.56e-01 6.10e-04s 60 + 86 = 146 == 146\n",
      "n=13 thresh=6.67e-01 2.82e-04s 26 + 78 = 104 == 104\n",
      "n=13 thresh=7.78e-01 1.49e-04s 10 + 60 = 70 == 70\n",
      "n=13 thresh=8.89e-01 8.08e-05s 4 + 31 = 35 == 35\n",
      "n=13 thresh=1.00e+00 5.29e-05s 0 + 0 = 0 == 0\n",
      "n=22 thresh=0.00e+00 1.46e-02s 964 + 4 = 968 == 968\n",
      "n=22 thresh=1.11e-01 9.90e-03s 774 + 91 = 865 == 865\n",
      "n=22 thresh=2.22e-01 8.13e-03s 598 + 161 = 759 == 759\n",
      "n=22 thresh=3.33e-01 5.24e-03s 412 + 218 = 630 == 630\n",
      "n=22 thresh=4.44e-01 2.99e-03s 292 + 260 = 552 == 552\n",
      "n=22 thresh=5.56e-01 2.03e-03s 214 + 239 = 453 == 453\n",
      "n=22 thresh=6.67e-01 9.37e-04s 108 + 213 = 321 == 321\n",
      "n=22 thresh=7.78e-01 4.44e-04s 54 + 164 = 218 == 218\n",
      "n=22 thresh=8.89e-01 1.42e-04s 10 + 99 = 109 == 109\n",
      "n=22 thresh=1.00e+00 6.60e-05s 0 + 0 = 0 == 0\n",
      "n=36 thresh=0.00e+00 4.50e-02s 2590 + 2 = 2592 == 2592\n",
      "n=36 thresh=1.11e-01 4.34e-02s 2038 + 260 = 2298 == 2298\n",
      "n=36 thresh=2.22e-01 2.33e-02s 1602 + 421 = 2023 == 2023\n",
      "n=36 thresh=3.33e-01 1.62e-02s 1150 + 579 = 1729 == 1729\n",
      "n=36 thresh=4.44e-01 9.97e-03s 838 + 628 = 1466 == 1466\n",
      "n=36 thresh=5.56e-01 5.18e-03s 488 + 641 = 1129 == 1129\n",
      "n=36 thresh=6.67e-01 3.51e-03s 296 + 568 = 864 == 864\n",
      "n=36 thresh=7.78e-01 1.38e-03s 138 + 450 = 588 == 588\n",
      "n=36 thresh=8.89e-01 4.28e-04s 38 + 271 = 309 == 309\n",
      "n=36 thresh=1.00e+00 1.36e-04s 0 + 0 = 0 == 0\n",
      "n=60 thresh=0.00e+00 1.42e-01s 7190 + 10 = 7200 == 7200\n",
      "n=60 thresh=1.11e-01 1.12e-01s 5616 + 749 = 6365 == 6365\n",
      "n=60 thresh=2.22e-01 8.32e-02s 4298 + 1276 = 5574 == 5574\n",
      "n=60 thresh=3.33e-01 5.71e-02s 3230 + 1581 = 4811 == 4811\n",
      "n=60 thresh=4.44e-01 3.54e-02s 2206 + 1829 = 4035 == 4035\n",
      "n=60 thresh=5.56e-01 2.13e-02s 1458 + 1759 = 3217 == 3217\n",
      "n=60 thresh=6.67e-01 8.74e-03s 746 + 1594 = 2340 == 2340\n",
      "n=60 thresh=7.78e-01 4.31e-03s 350 + 1248 = 1598 == 1598\n",
      "n=60 thresh=8.89e-01 7.95e-04s 64 + 685 = 749 == 749\n",
      "n=60 thresh=1.00e+00 3.03e-04s 0 + 0 = 0 == 0\n",
      "n=100 thresh=0.00e+00 5.42e-01s 19944 + 56 = 20000 == 20000\n",
      "n=100 thresh=1.11e-01 4.37e-01s 15740 + 2029 = 17769 == 17769\n",
      "n=100 thresh=2.22e-01 3.06e-01s 12118 + 3466 = 15584 == 15584\n",
      "n=100 thresh=3.33e-01 2.22e-01s 8978 + 4406 = 13384 == 13384\n",
      "n=100 thresh=4.44e-01 1.22e-01s 6092 + 4998 = 11090 == 11090\n",
      "n=100 thresh=5.56e-01 7.37e-02s 3816 + 5026 = 8842 == 8842\n",
      "n=100 thresh=6.67e-01 3.94e-02s 2276 + 4430 = 6706 == 6706\n",
      "n=100 thresh=7.78e-01 1.43e-02s 1000 + 3486 = 4486 == 4486\n",
      "n=100 thresh=8.89e-01 3.53e-03s 242 + 1968 = 2210 == 2210\n",
      "n=100 thresh=1.00e+00 7.65e-04s 0 + 0 = 0 == 0\n"
     ]
    }
   ],
   "source": [
    "# Unit test for matchEdgeMaps2D.\n",
    "for n in np.round(np.logspace(0,2,10)).astype(int):\n",
    "    for thresh in np.linspace(0,1,10):\n",
    "        print 'n={:d} thresh={:1.2e}'.format(n,thresh),\n",
    "        bmap1 = (np.random.rand(n,n)>thresh).astype(float)\n",
    "        bmap2 = (np.random.rand(n,n)>thresh).astype(float)\n",
    "        t = time.time()\n",
    "        cost,match1,match2 = matchEdgeMaps2D(bmap1,bmap2,.005,100)\n",
    "        print '{:1.2e}s'.format(time.time() - t),\n",
    "        npix = len(bmap1.nonzero()[0]) + len(bmap2.nonzero()[0])\n",
    "        ncor = len(match1.nonzero()[0]) + len(match1.nonzero()[0])\n",
    "        nout = len(((bmap1>0)&(match1==0)).nonzero()[0]) + len(((bmap2>0)&(match2==0)).nonzero()[0])\n",
    "        print ncor,'+',nout,'=',ncor+nout,'==',npix\n",
    "        if ncor+nout!=npix: raise ValueError(\"bug\")\n",
    "        \n",
    "        match1f = match1.ravel()\n",
    "        idx1 = match1f.astype(int)\n",
    "        a1 = match1f.nonzero()[0]\n",
    "        a2 = match1f[idx1.nonzero()[0]].ravel()\n",
    "        a = vstack((a1,a2)).T\n",
    "\n",
    "        match2f = match2.ravel()\n",
    "        idx2 = match2f.astype(int)\n",
    "        b1 = match2f.nonzero()[0]\n",
    "        b2 = match2f[idx2.nonzero()[0]].ravel()\n",
    "        b = vstack((b2,b1)).T\n",
    "        b = b[b[:,0].argsort(),]\n",
    "        if np.sum(a-b): raise ValueError(\"bug\")"
   ]
  },
  {
   "cell_type": "code",
   "execution_count": 8,
   "metadata": {
    "collapsed": false
   },
   "outputs": [
    {
     "name": "stdout",
     "output_type": "stream",
     "text": [
      " n=1 thresh=5.00e-01 0.0000s 0 + 0 = 0 == 0\n",
      "n=1 thresh=6.33e-01 0.0000s 0 + 1 = 1 == 1\n",
      "n=1 thresh=7.67e-01 0.0000s 0 + 0 = 0 == 0\n",
      "n=1 thresh=9.00e-01 0.0000s 0 + 1 = 1 == 1\n",
      "n=4 thresh=5.00e-01 0.0003s 32 + 33 = 65 == 65\n",
      "n=4 thresh=6.33e-01 0.0002s 18 + 28 = 46 == 46\n",
      "n=4 thresh=7.67e-01 0.0001s 10 + 19 = 29 == 29\n",
      "n=4 thresh=9.00e-01 0.0000s 0 + 10 = 10 == 10\n",
      "n=16 thresh=5.00e-01 0.0333s 2046 + 2012 = 4058 == 4058\n",
      "n=16 thresh=6.33e-01 0.0167s 1074 + 1901 = 2975 == 2975\n",
      "n=16 thresh=7.67e-01 0.0087s 510 + 1445 = 1955 == 1955\n",
      "n=16 thresh=9.00e-01 0.0010s 74 + 748 = 822 == 822\n",
      "n=64 thresh=5.00e-01 7.5874s 131232 + 131156 = 262388 == 262388\n",
      "n=64 thresh=6.33e-01 3.3644s 70302 + 122002 = 192304 == 192304\n",
      "n=64 thresh=7.67e-01 0.9500s 28208 + 93970 = 122178 == 122178\n",
      "n=64 thresh=9.00e-01 0.1341s 5240 + 47151 = 52391 == 52391\n"
     ]
    }
   ],
   "source": [
    "# Unit test for correspondVoxels\n",
    "for n in np.round(np.logspace(0,6,4,base=2)).astype(int):\n",
    "    for thresh in np.linspace(.5,.9,4):\n",
    "        print 'n={:d} thresh={:1.2e}'.format(n,thresh),\n",
    "        bmap1 = (np.random.rand(n,n,n)>thresh).astype(float)\n",
    "        bmap2 = (np.random.rand(n,n,n)>thresh).astype(float)\n",
    "\n",
    "        t = time.time()\n",
    "        cost,oc,match1,match2 = correspondVoxels(bmap1,bmap2,.005)\n",
    "        print '{:1.4f}s'.format(time.time() - t),\n",
    "        npix = len(bmap1.nonzero()[0]) + len(bmap2.nonzero()[0])\n",
    "        ncor = len(match1.nonzero()[0]) + len(match1.nonzero()[0])\n",
    "        nout = len(((bmap1>0)&(match1==0)).nonzero()[0]) + len(((bmap2>0)&(match2==0)).nonzero()[0])\n",
    "        print ncor,'+',nout,'=',ncor+nout,'==',npix\n",
    "        if ncor+nout!=npix: raise ValueError(\"bug\")\n",
    "        \n",
    "        match1f = match1.ravel()\n",
    "        idx1 = match1f.astype(int)\n",
    "        a1 = match1f.nonzero()[0]\n",
    "        a2 = match1f[idx1.nonzero()[0]].ravel()\n",
    "        a = vstack((a1,a2)).T\n",
    "\n",
    "        match2f = match2.ravel()\n",
    "        idx2 = match2f.astype(int)\n",
    "        b1 = match2f.nonzero()[0]\n",
    "        b2 = match2f[idx2.nonzero()[0]].ravel()\n",
    "        b = vstack((b2,b1)).T\n",
    "        b = b[b[:,0].argsort(),]\n",
    "        if np.sum(a-b): raise ValueError(\"bug\")"
   ]
  },
  {
   "cell_type": "code",
   "execution_count": 9,
   "metadata": {
    "collapsed": false
   },
   "outputs": [
    {
     "name": "stdout",
     "output_type": "stream",
     "text": [
      "n=1 thresh=5.00e-01 0.0000s 0 + 1 = 1 == 1\n",
      "n=1 thresh=6.33e-01 0.0000s 0 + 1 = 1 == 1\n",
      "n=1 thresh=7.67e-01 0.0000s 0 + 0 = 0 == 0\n",
      "n=1 thresh=9.00e-01 0.0000s 0 + 0 = 0 == 0\n",
      "n=4 thresh=5.00e-01 0.0002s 28 + 29 = 57 == 57\n",
      "n=4 thresh=6.33e-01 0.0002s 16 + 25 = 41 == 41\n",
      "n=4 thresh=7.67e-01 0.0001s 10 + 26 = 36 == 36\n",
      "n=4 thresh=9.00e-01 0.0000s 0 + 12 = 12 == 12\n",
      "n=16 thresh=5.00e-01 0.0392s 2040 + 2040 = 4080 == 4080\n",
      "n=16 thresh=6.33e-01 0.0150s 1046 + 1943 = 2989 == 2989\n",
      "n=16 thresh=7.67e-01 0.0059s 478 + 1440 = 1918 == 1918\n",
      "n=16 thresh=9.00e-01 0.0009s 56 + 759 = 815 == 815\n",
      "n=64 thresh=5.00e-01 26.4297s 130104 + 131787 = 261891 == 261891\n",
      "n=64 thresh=6.33e-01 19.9401s 70558 + 121807 = 192365 == 192365\n",
      "n=64 thresh=7.67e-01 18.2569s 28796 + 93349 = 122145 == 122145\n",
      "n=64 thresh=9.00e-01 8.3589s 5156 + 47129 = 52285 == 52285\n"
     ]
    }
   ],
   "source": [
    "# Unit test for matchEdgeMaps3D\n",
    "for n in np.round(np.logspace(0,6,4,base=2)).astype(int):\n",
    "    for thresh in np.linspace(.5,.9,4):\n",
    "        print 'n={:d} thresh={:1.2e}'.format(n,thresh),\n",
    "        bmap1 = (np.random.rand(n,n,n)>thresh).astype(float)\n",
    "        bmap2 = (np.random.rand(n,n,n)>thresh).astype(float)\n",
    "\n",
    "        t = time.time()\n",
    "        cost,match1,match2 = matchEdgeMaps3D(bmap1,bmap2,.005*np.sqrt(n**3),100)\n",
    "        print '{:1.4f}s'.format(time.time() - t),\n",
    "        npix = len(bmap1.nonzero()[0]) + len(bmap2.nonzero()[0])\n",
    "        ncor = len(match1.nonzero()[0]) + len(match1.nonzero()[0])\n",
    "        nout = len(((bmap1>0)&(match1==0)).nonzero()[0]) + len(((bmap2>0)&(match2==0)).nonzero()[0])\n",
    "        print ncor,'+',nout,'=',ncor+nout,'==',npix\n",
    "        if ncor+nout!=npix: raise ValueError(\"bug\")\n",
    "        \n",
    "        match1f = match1.ravel()\n",
    "        idx1 = match1f.astype(int)\n",
    "        a1 = match1f.nonzero()[0]\n",
    "        a2 = match1f[idx1.nonzero()[0]].ravel()\n",
    "        a = vstack((a1,a2)).T\n",
    "\n",
    "        match2f = match2.ravel()\n",
    "        idx2 = match2f.astype(int)\n",
    "        b1 = match2f.nonzero()[0]\n",
    "        b2 = match2f[idx2.nonzero()[0]].ravel()\n",
    "        b = vstack((b2,b1)).T\n",
    "        b = b[b[:,0].argsort(),]\n",
    "        if np.sum(a-b): raise ValueError(\"bug\")"
   ]
  },
  {
   "cell_type": "code",
   "execution_count": 3,
   "metadata": {
    "collapsed": false
   },
   "outputs": [
    {
     "name": "stdout",
     "output_type": "stream",
     "text": [
      "n=10 thresh=5.00e-01 6.77e-04s 98 48 50\n"
     ]
    }
   ],
   "source": []
  },
  {
   "cell_type": "code",
   "execution_count": null,
   "metadata": {
    "collapsed": true
   },
   "outputs": [],
   "source": []
  }
 ],
 "metadata": {
  "kernelspec": {
   "display_name": "Python 2",
   "language": "python",
   "name": "python2"
  },
  "language_info": {
   "codemirror_mode": {
    "name": "ipython",
    "version": 2
   },
   "file_extension": ".py",
   "mimetype": "text/x-python",
   "name": "python",
   "nbconvert_exporter": "python",
   "pygments_lexer": "ipython2",
   "version": "2.7.6"
  }
 },
 "nbformat": 4,
 "nbformat_minor": 0
}
