{
 "cells": [
  {
   "cell_type": "code",
   "execution_count": 5,
   "metadata": {
    "collapsed": false,
    "scrolled": false
   },
   "outputs": [
    {
     "name": "stdout",
     "output_type": "stream",
     "text": [
      "Populating the interactive namespace from numpy and matplotlib\n"
     ]
    }
   ],
   "source": [
    "%pylab inline\n",
    "import time\n",
    "import numpy as np\n",
    "from segbench import csaAssign, correspondPixels"
   ]
  },
  {
   "cell_type": "code",
   "execution_count": 6,
   "metadata": {
    "collapsed": false
   },
   "outputs": [],
   "source": [
    "data = np.array([[1, 4, 3],\n",
    "    [2, 5, 3],\n",
    "    [3, 6, 3],\n",
    "    [1, 5, 1],\n",
    "    [2, 6, 1],\n",
    "    [3, 4, 5]])\n",
    "n = 6\n",
    "e1 = csaAssign(n,data)"
   ]
  },
  {
   "cell_type": "code",
   "execution_count": 7,
   "metadata": {
    "collapsed": true
   },
   "outputs": [],
   "source": [
    "n = 1000\n",
    "dg = np.random.rand(n,n)>.5\n",
    "m = np.sum(dg.flat)\n",
    "i = np.array(dg.ravel().nonzero()).astype(float)\n",
    "g1 = 1+np.floor(np.divide(i,n))\n",
    "g2 = (1+np.floor(np.divide(i,n)),\n",
    "     1+ np.mod(i,n)+n,\n",
    "     1+np.floor(np.random.rand(1,m))*1000)\n",
    "g2 = np.array(np.vstack(g2)).T"
   ]
  },
  {
   "cell_type": "code",
   "execution_count": 8,
   "metadata": {
    "collapsed": false
   },
   "outputs": [
    {
     "name": "stdout",
     "output_type": "stream",
     "text": [
      "0.0765678882599 seconds\n"
     ]
    }
   ],
   "source": [
    "t = time.time()\n",
    "e2 = csaAssign(n*2,g2)\n",
    "print time.time() - t, \"seconds\""
   ]
  },
  {
   "cell_type": "code",
   "execution_count": 9,
   "metadata": {
    "collapsed": false
   },
   "outputs": [
    {
     "name": "stdout",
     "output_type": "stream",
     "text": [
      "1000 499923 (4.0, 1003.0, 1.0)\n"
     ]
    }
   ],
   "source": [
    "esum = np.sum(e2,axis=0)\n",
    "if not all(esum[0:2]==(n*(n+1)/2,n*(n+1)/2+n*n)): raise ValueError(\"bug\")\n",
    "if not np.sum(esum[0:2])==(2*n*(2*n+1)/2): raise ValueError(\"bug\")\n",
    "print n,m, e2[3][:]"
   ]
  },
  {
   "cell_type": "code",
   "execution_count": 40,
   "metadata": {
    "collapsed": false
   },
   "outputs": [],
   "source": [
    "thres = .5\n",
    "n = 100\n",
    "bmap1 = (np.random.rand(n,n)>.5).astype(float)\n",
    "bmap2 = (np.random.rand(n,n)>.5).astype(float)\n",
    "\n",
    "match1 = zeros_like(bmap1)\n",
    "match2 = zeros_like(bmap2)"
   ]
  },
  {
   "cell_type": "code",
   "execution_count": 41,
   "metadata": {
    "collapsed": true
   },
   "outputs": [],
   "source": [
    "cost,oc = correspondPixels(bmap1,bmap2,match1,match2)"
   ]
  },
  {
   "cell_type": "code",
   "execution_count": 42,
   "metadata": {
    "collapsed": false
   },
   "outputs": [],
   "source": [
    "npix = len(bmap1.nonzero()[0]) + len(bmap2.nonzero()[0])\n",
    "ncor = len(match1.nonzero()[0]) + len(match1.nonzero()[0])\n",
    "nout = len(((bmap1>0)&(match1==0)).nonzero()[0]) + len(((bmap2>0)&(match2==0)).nonzero()[0])\n",
    "npix,ncor,nout,ncor+nout\n",
    "if ncor+nout!=npix: raise ValueError(\"bug\")"
   ]
  },
  {
   "cell_type": "code",
   "execution_count": 47,
   "metadata": {
    "collapsed": false
   },
   "outputs": [],
   "source": [
    "match1f = match1.ravel()\n",
    "idx1 = match1f.astype(int)\n",
    "a1 = match1f.nonzero()[0]\n",
    "a2 = match1f[idx1.nonzero()[0]].ravel()\n",
    "a = vstack((a1,a2)).T\n",
    "\n",
    "\n",
    "match2f = match2.ravel()\n",
    "idx2 = match2f.astype(int)\n",
    "b1 = match2f.nonzero()[0]\n",
    "b2 = match2f[idx2.nonzero()[0]].ravel()\n",
    "b = vstack((b2,b1)).T\n",
    "b = b[b[:,0].argsort(),]\n",
    "if sum(a-b): raise ValueError(\"bug\")"
   ]
  },
  {
   "cell_type": "code",
   "execution_count": null,
   "metadata": {
    "collapsed": true
   },
   "outputs": [],
   "source": []
  }
 ],
 "metadata": {
  "kernelspec": {
   "display_name": "Python 2",
   "language": "python",
   "name": "python2"
  },
  "language_info": {
   "codemirror_mode": {
    "name": "ipython",
    "version": 2
   },
   "file_extension": ".py",
   "mimetype": "text/x-python",
   "name": "python",
   "nbconvert_exporter": "python",
   "pygments_lexer": "ipython2",
   "version": "2.7.9"
  }
 },
 "nbformat": 4,
 "nbformat_minor": 0
}
