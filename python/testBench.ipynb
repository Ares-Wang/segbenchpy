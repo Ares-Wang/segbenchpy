{
 "cells": [
  {
   "cell_type": "code",
   "execution_count": 1,
   "metadata": {
    "collapsed": false,
    "scrolled": false
   },
   "outputs": [
    {
     "name": "stdout",
     "output_type": "stream",
     "text": [
      "Populating the interactive namespace from numpy and matplotlib\n"
     ]
    }
   ],
   "source": [
    "%pylab inline\n",
    "import time\n",
    "import numpy as np\n",
    "from segbench import csaAssign, correspondPixels, matchEdgeMaps2D, matchEdgeMaps3D"
   ]
  },
  {
   "cell_type": "code",
   "execution_count": 2,
   "metadata": {
    "collapsed": false
   },
   "outputs": [
    {
     "name": "stdout",
     "output_type": "stream",
     "text": [
      "[[ 1.  5.  1.]\n",
      " [ 2.  6.  1.]\n",
      " [ 3.  4.  5.]]\n"
     ]
    }
   ],
   "source": [
    "data = np.array([[1, 4, 3],\n",
    "    [2, 5, 3],\n",
    "    [3, 6, 3],\n",
    "    [1, 5, 1],\n",
    "    [2, 6, 1],\n",
    "    [3, 4, 5]])\n",
    "n = 6\n",
    "e1 = csaAssign(n,data)\n",
    "print e1"
   ]
  },
  {
   "cell_type": "code",
   "execution_count": 3,
   "metadata": {
    "collapsed": false
   },
   "outputs": [
    {
     "name": "stdout",
     "output_type": "stream",
     "text": [
      "8.563e-02s\n"
     ]
    }
   ],
   "source": [
    "n = 1000\n",
    "dg = np.random.rand(n,n)>.5\n",
    "m = np.sum(dg.flat)\n",
    "i = np.array(dg.ravel().nonzero()).astype(float)\n",
    "g1 = 1+np.floor(np.divide(i,n))\n",
    "g2 = (1+np.floor(np.divide(i,n)),\n",
    "     1+ np.mod(i,n)+n,\n",
    "     1+np.floor(np.random.rand(1,m))*1000)\n",
    "g2 = np.array(np.vstack(g2)).T\n",
    "t = time.time()\n",
    "e2 = csaAssign(n*2,g2)\n",
    "print '{:.3e}s'.format(time.time() - t)"
   ]
  },
  {
   "cell_type": "code",
   "execution_count": 5,
   "metadata": {
    "collapsed": false
   },
   "outputs": [
    {
     "name": "stdout",
     "output_type": "stream",
     "text": [
      "1000 499745 [  4.00000000e+00   1.00100000e+03   1.00000000e+00]\n"
     ]
    }
   ],
   "source": [
    "esum = np.sum(e2,axis=0)\n",
    "if not all(esum[0:2]==(n*(n+1)/2,n*(n+1)/2+n*n)): raise ValueError(\"bug\")\n",
    "if not np.sum(esum[0:2])==(2*n*(2*n+1)/2): raise ValueError(\"bug\")\n",
    "print n,m, e2[3][:]"
   ]
  },
  {
   "cell_type": "code",
   "execution_count": 5,
   "metadata": {
    "collapsed": false,
    "scrolled": false
   },
   "outputs": [
    {
     "name": "stdout",
     "output_type": "stream",
     "text": [
      "n=1 thresh=0.00e+00 4.83e-03s 1 0 1\n",
      "n=1 thresh=1.11e-01 1.79e-05s 1 0 1\n",
      "n=1 thresh=2.22e-01 4.41e-05s 2 2 0\n",
      "n=1 thresh=3.33e-01 9.06e-06s 0 0 0\n",
      "n=1 thresh=4.44e-01 1.10e-05s 0 0 0\n",
      "n=1 thresh=5.56e-01 3.50e-05s 2 2 0\n",
      "n=1 thresh=6.67e-01 7.87e-06s 1 0 1\n",
      "n=1 thresh=7.78e-01 1.00e-05s 1 0 1\n",
      "n=1 thresh=8.89e-01 6.91e-06s 0 0 0\n",
      "n=1 thresh=1.00e+00 9.06e-06s 1 0 1\n",
      "n=2 thresh=0.00e+00 3.91e-05s 5 4 1\n",
      "n=2 thresh=1.11e-01 8.11e-06s 3 0 3\n",
      "n=2 thresh=2.22e-01 5.70e-05s 7 6 1\n",
      "n=2 thresh=3.33e-01 3.91e-05s 6 4 2\n",
      "n=2 thresh=4.44e-01 7.30e-05s 5 4 1\n",
      "n=2 thresh=5.56e-01 7.10e-05s 4 2 2\n",
      "n=2 thresh=6.67e-01 6.20e-05s 4 2 2\n",
      "n=2 thresh=7.78e-01 4.70e-05s 6 4 2\n",
      "n=2 thresh=8.89e-01 1.41e-05s 3 0 3\n",
      "n=2 thresh=1.00e+00 4.79e-05s 5 2 3\n",
      "n=3 thresh=0.00e+00 5.01e-05s 11 6 5\n",
      "n=3 thresh=1.11e-01 3.00e-05s 6 2 4\n",
      "n=3 thresh=2.22e-01 4.39e-05s 11 6 5\n",
      "n=3 thresh=3.33e-01 4.60e-05s 10 6 4\n",
      "n=3 thresh=4.44e-01 3.29e-05s 6 2 4\n",
      "n=3 thresh=5.56e-01 3.70e-05s 10 4 6\n",
      "n=3 thresh=6.67e-01 6.89e-05s 13 8 5\n",
      "n=3 thresh=7.78e-01 6.51e-05s 10 8 2\n",
      "n=3 thresh=8.89e-01 3.60e-05s 8 4 4\n",
      "n=3 thresh=1.00e+00 3.60e-05s 7 2 5\n",
      "n=5 thresh=0.00e+00 1.80e-04s 30 16 14\n",
      "n=5 thresh=1.11e-01 1.86e-04s 26 14 12\n",
      "n=5 thresh=2.22e-01 1.63e-04s 29 16 13\n",
      "n=5 thresh=3.33e-01 1.24e-04s 28 14 14\n",
      "n=5 thresh=4.44e-01 1.06e-04s 26 12 14\n",
      "n=5 thresh=5.56e-01 1.52e-04s 29 16 13\n",
      "n=5 thresh=6.67e-01 1.05e-04s 26 12 14\n",
      "n=5 thresh=7.78e-01 1.03e-04s 24 12 12\n",
      "n=5 thresh=8.89e-01 9.80e-05s 25 12 13\n",
      "n=5 thresh=1.00e+00 1.87e-04s 28 20 8\n",
      "n=8 thresh=0.00e+00 2.05e-04s 53 20 33\n",
      "n=8 thresh=1.11e-01 3.19e-04s 56 32 24\n",
      "n=8 thresh=2.22e-01 2.85e-04s 63 32 31\n",
      "n=8 thresh=3.33e-01 4.01e-04s 74 42 32\n",
      "n=8 thresh=4.44e-01 3.40e-04s 64 32 32\n",
      "n=8 thresh=5.56e-01 5.53e-04s 77 48 29\n",
      "n=8 thresh=6.67e-01 2.75e-04s 64 30 34\n",
      "n=8 thresh=7.78e-01 1.99e-04s 58 24 34\n",
      "n=8 thresh=8.89e-01 2.87e-04s 65 32 33\n",
      "n=8 thresh=1.00e+00 2.07e-04s 66 26 40\n",
      "n=13 thresh=0.00e+00 1.01e-03s 174 86 88\n",
      "n=13 thresh=1.11e-01 9.20e-04s 176 96 80\n",
      "n=13 thresh=2.22e-01 7.21e-04s 160 76 84\n",
      "n=13 thresh=3.33e-01 1.21e-03s 182 96 86\n",
      "n=13 thresh=4.44e-01 1.33e-03s 177 100 77\n",
      "n=13 thresh=5.56e-01 7.21e-04s 161 78 83\n",
      "n=13 thresh=6.67e-01 1.48e-03s 189 118 71\n",
      "n=13 thresh=7.78e-01 7.21e-04s 163 72 91\n",
      "n=13 thresh=8.89e-01 6.98e-04s 161 80 81\n",
      "n=13 thresh=1.00e+00 8.70e-04s 163 84 79\n",
      "n=22 thresh=0.00e+00 3.14e-03s 481 246 235\n",
      "n=22 thresh=1.11e-01 4.16e-03s 487 246 241\n",
      "n=22 thresh=2.22e-01 3.45e-03s 467 244 223\n",
      "n=22 thresh=3.33e-01 3.22e-03s 503 258 245\n",
      "n=22 thresh=4.44e-01 5.54e-03s 497 272 225\n",
      "n=22 thresh=5.56e-01 3.22e-03s 479 228 251\n",
      "n=22 thresh=6.67e-01 3.87e-03s 487 240 247\n",
      "n=22 thresh=7.78e-01 3.97e-03s 480 244 236\n",
      "n=22 thresh=8.89e-01 3.32e-03s 490 252 238\n",
      "n=22 thresh=1.00e+00 3.98e-03s 502 264 238\n",
      "n=36 thresh=0.00e+00 1.02e-02s 1287 630 657\n",
      "n=36 thresh=1.11e-01 1.02e-02s 1297 650 647\n",
      "n=36 thresh=2.22e-01 1.18e-02s 1282 638 644\n",
      "n=36 thresh=3.33e-01 1.21e-02s 1271 612 659\n",
      "n=36 thresh=4.44e-01 1.12e-02s 1326 664 662\n",
      "n=36 thresh=5.56e-01 1.02e-02s 1271 638 633\n",
      "n=36 thresh=6.67e-01 8.84e-03s 1251 612 639\n",
      "n=36 thresh=7.78e-01 1.22e-02s 1299 642 657\n",
      "n=36 thresh=8.89e-01 1.16e-02s 1270 600 670\n",
      "n=36 thresh=1.00e+00 1.10e-02s 1286 640 646\n",
      "n=60 thresh=0.00e+00 4.31e-02s 3585 1778 1807\n",
      "n=60 thresh=1.11e-01 3.77e-02s 3603 1750 1853\n",
      "n=60 thresh=2.22e-01 3.49e-02s 3575 1756 1819\n",
      "n=60 thresh=3.33e-01 4.52e-02s 3624 1804 1820\n",
      "n=60 thresh=4.44e-01 4.08e-02s 3600 1848 1752\n",
      "n=60 thresh=5.56e-01 4.42e-02s 3644 1822 1822\n",
      "n=60 thresh=6.67e-01 4.09e-02s 3606 1810 1796\n",
      "n=60 thresh=7.78e-01 4.23e-02s 3615 1824 1791\n",
      "n=60 thresh=8.89e-01 3.66e-02s 3567 1768 1799\n",
      "n=60 thresh=1.00e+00 4.48e-02s 3649 1880 1769\n",
      "n=100 thresh=0.00e+00 1.39e-01s 9871 4822 5049\n",
      "n=100 thresh=1.11e-01 1.33e-01s 9887 4842 5045\n",
      "n=100 thresh=2.22e-01 1.44e-01s 9977 5018 4959\n",
      "n=100 thresh=3.33e-01 1.33e-01s 9914 4848 5066\n",
      "n=100 thresh=4.44e-01 1.31e-01s 9975 4860 5115\n",
      "n=100 thresh=5.56e-01 1.41e-01s 9899 4848 5051\n",
      "n=100 thresh=6.67e-01 1.76e-01s 9935 4902 5033\n",
      "n=100 thresh=7.78e-01 1.60e-01s 9895 4884 5011\n",
      "n=100 thresh=8.89e-01 1.47e-01s 9967 4958 5009\n",
      "n=100 thresh=1.00e+00 1.49e-01s 9952 5014 4938\n"
     ]
    }
   ],
   "source": [
    "thres = .5\n",
    "n = 100\n",
    "for n in np.round(np.logspace(0,2,10)).astype(int):\n",
    "    for thresh in np.linspace(0,1,10):\n",
    "        print 'n={:d} thresh={:1.2e}'.format(n,thresh),\n",
    "        bmap1 = (np.random.rand(n,n)>thres).astype(float)\n",
    "        bmap2 = (np.random.rand(n,n)>thres).astype(float)\n",
    "\n",
    "        match1 = zeros_like(bmap1)\n",
    "        match2 = zeros_like(bmap2)\n",
    "        t = time.time()\n",
    "        cost,oc = correspondPixels(bmap1,bmap2,match1,match2,.005)\n",
    "        print '{:1.2e}s'.format(time.time() - t),\n",
    "        npix = len(bmap1.nonzero()[0]) + len(bmap2.nonzero()[0])\n",
    "        ncor = len(match1.nonzero()[0]) + len(match1.nonzero()[0])\n",
    "        nout = len(((bmap1>0)&(match1==0)).nonzero()[0]) + len(((bmap2>0)&(match2==0)).nonzero()[0])\n",
    "        print npix,ncor,nout\n",
    "        if ncor+nout!=npix: raise ValueError(\"bug\")\n",
    "        match1f = match1.ravel()\n",
    "        idx1 = match1f.astype(int)\n",
    "        a1 = match1f.nonzero()[0]\n",
    "        a2 = match1f[idx1.nonzero()[0]].ravel()\n",
    "        a = vstack((a1,a2)).T\n",
    "\n",
    "\n",
    "        match2f = match2.ravel()\n",
    "        idx2 = match2f.astype(int)\n",
    "        b1 = match2f.nonzero()[0]\n",
    "        b2 = match2f[idx2.nonzero()[0]].ravel()\n",
    "        b = vstack((b2,b1)).T\n",
    "        b = b[b[:,0].argsort(),]\n",
    "        if sum(a-b): raise ValueError(\"bug\")"
   ]
  },
  {
   "cell_type": "code",
   "execution_count": 12,
   "metadata": {
    "collapsed": false
   },
   "outputs": [
    {
     "name": "stdout",
     "output_type": "stream",
     "text": [
      "n=1 thresh=0.00e+00 1.81e-05s 0 + 1 = 1 == 1\n",
      "n=1 thresh=1.11e-01 5.60e-05s 2 + 0 = 2 == 2\n",
      "n=1 thresh=2.22e-01 1.31e-05s 0 + 1 = 1 == 1\n",
      "n=1 thresh=3.33e-01 5.41e-05s 2 + 0 = 2 == 2\n",
      "n=1 thresh=4.44e-01 1.10e-05s 0 + 0 = 0 == 0\n",
      "n=1 thresh=5.56e-01 1.22e-05s 0 + 0 = 0 == 0\n",
      "n=1 thresh=6.67e-01 1.00e-05s 0 + 1 = 1 == 1\n",
      "n=1 thresh=7.78e-01 1.19e-05s 0 + 1 = 1 == 1\n",
      "n=1 thresh=8.89e-01 5.39e-05s 2 + 0 = 2 == 2\n",
      "n=1 thresh=1.00e+00 1.10e-05s 0 + 1 = 1 == 1\n",
      "n=2 thresh=0.00e+00 6.39e-05s 4 + 1 = 5 == 5\n",
      "n=2 thresh=1.11e-01 5.60e-05s 4 + 1 = 5 == 5\n",
      "n=2 thresh=2.22e-01 6.22e-05s 4 + 2 = 6 == 6\n",
      "n=2 thresh=3.33e-01 3.98e-05s 4 + 2 = 6 == 6\n",
      "n=2 thresh=4.44e-01 4.10e-05s 4 + 2 = 6 == 6\n",
      "n=2 thresh=5.56e-01 3.79e-05s 4 + 2 = 6 == 6\n",
      "n=2 thresh=6.67e-01 8.11e-06s 0 + 4 = 4 == 4\n",
      "n=2 thresh=7.78e-01 3.41e-05s 2 + 2 = 4 == 4\n",
      "n=2 thresh=8.89e-01 7.15e-06s 0 + 4 = 4 == 4\n",
      "n=2 thresh=1.00e+00 5.96e-06s 0 + 3 = 3 == 3\n",
      "n=3 thresh=0.00e+00 8.11e-06s 0 + 3 = 3 == 3\n",
      "n=3 thresh=1.11e-01 3.79e-05s 2 + 5 = 7 == 7\n",
      "n=3 thresh=2.22e-01 5.41e-05s 4 + 5 = 9 == 9\n",
      "n=3 thresh=3.33e-01 3.91e-05s 4 + 4 = 8 == 8\n",
      "n=3 thresh=4.44e-01 4.79e-05s 6 + 4 = 10 == 10\n",
      "n=3 thresh=5.56e-01 6.70e-05s 8 + 4 = 12 == 12\n",
      "n=3 thresh=6.67e-01 3.60e-05s 4 + 3 = 7 == 7\n",
      "n=3 thresh=7.78e-01 1.19e-05s 0 + 7 = 7 == 7\n",
      "n=3 thresh=8.89e-01 1.09e-04s 10 + 3 = 13 == 13\n",
      "n=3 thresh=1.00e+00 3.70e-05s 4 + 7 = 11 == 11\n",
      "n=5 thresh=0.00e+00 2.07e-04s 18 + 12 = 30 == 30\n",
      "n=5 thresh=1.11e-01 7.89e-05s 8 + 16 = 24 == 24\n",
      "n=5 thresh=2.22e-01 1.34e-04s 12 + 13 = 25 == 25\n",
      "n=5 thresh=3.33e-01 1.76e-04s 16 + 12 = 28 == 28\n",
      "n=5 thresh=4.44e-01 6.89e-05s 8 + 13 = 21 == 21\n",
      "n=5 thresh=5.56e-01 1.98e-04s 18 + 9 = 27 == 27\n",
      "n=5 thresh=6.67e-01 1.48e-04s 14 + 12 = 26 == 26\n",
      "n=5 thresh=7.78e-01 1.02e-04s 10 + 9 = 19 == 19\n",
      "n=5 thresh=8.89e-01 1.33e-04s 12 + 16 = 28 == 28\n",
      "n=5 thresh=1.00e+00 1.13e-04s 10 + 16 = 26 == 26\n",
      "n=8 thresh=0.00e+00 2.57e-04s 26 + 34 = 60 == 60\n",
      "n=8 thresh=1.11e-01 3.79e-04s 40 + 33 = 73 == 73\n",
      "n=8 thresh=2.22e-01 4.25e-04s 38 + 30 = 68 == 68\n",
      "n=8 thresh=3.33e-01 2.69e-04s 30 + 35 = 65 == 65\n",
      "n=8 thresh=4.44e-01 4.25e-04s 28 + 40 = 68 == 68\n",
      "n=8 thresh=5.56e-01 2.78e-04s 26 + 40 = 66 == 66\n",
      "n=8 thresh=6.67e-01 3.14e-04s 36 + 28 = 64 == 64\n",
      "n=8 thresh=7.78e-01 3.64e-04s 36 + 30 = 66 == 66\n",
      "n=8 thresh=8.89e-01 2.55e-04s 26 + 33 = 59 == 59\n",
      "n=8 thresh=1.00e+00 2.14e-04s 24 + 36 = 60 == 60\n",
      "n=13 thresh=0.00e+00 1.00e-03s 86 + 77 = 163 == 163\n",
      "n=13 thresh=1.11e-01 8.87e-04s 76 + 93 = 169 == 169\n",
      "n=13 thresh=2.22e-01 9.74e-04s 90 + 87 = 177 == 177\n",
      "n=13 thresh=3.33e-01 9.96e-04s 86 + 87 = 173 == 173\n",
      "n=13 thresh=4.44e-01 7.67e-04s 82 + 81 = 163 == 163\n",
      "n=13 thresh=5.56e-01 1.10e-03s 86 + 87 = 173 == 173\n",
      "n=13 thresh=6.67e-01 7.49e-04s 82 + 78 = 160 == 160\n",
      "n=13 thresh=7.78e-01 7.59e-04s 68 + 91 = 159 == 159\n",
      "n=13 thresh=8.89e-01 8.44e-04s 86 + 76 = 162 == 162\n",
      "n=13 thresh=1.00e+00 9.22e-04s 78 + 98 = 176 == 176\n",
      "n=22 thresh=0.00e+00 2.89e-03s 212 + 248 = 460 == 460\n",
      "n=22 thresh=1.11e-01 2.95e-03s 228 + 237 = 465 == 465\n",
      "n=22 thresh=2.22e-01 2.67e-03s 216 + 247 = 463 == 463\n",
      "n=22 thresh=3.33e-01 3.00e-03s 238 + 262 = 500 == 500\n",
      "n=22 thresh=4.44e-01 3.57e-03s 250 + 224 = 474 == 474\n",
      "n=22 thresh=5.56e-01 3.34e-03s 226 + 239 = 465 == 465\n",
      "n=22 thresh=6.67e-01 3.11e-03s 236 + 263 = 499 == 499\n",
      "n=22 thresh=7.78e-01 3.34e-03s 220 + 241 = 461 == 461\n",
      "n=22 thresh=8.89e-01 4.33e-03s 264 + 247 = 511 == 511\n",
      "n=22 thresh=1.00e+00 3.71e-03s 278 + 222 = 500 == 500\n",
      "n=36 thresh=0.00e+00 1.18e-02s 642 + 630 = 1272 == 1272\n",
      "n=36 thresh=1.11e-01 1.20e-02s 692 + 616 = 1308 == 1308\n",
      "n=36 thresh=2.22e-01 1.01e-02s 628 + 690 = 1318 == 1318\n",
      "n=36 thresh=3.33e-01 1.22e-02s 660 + 648 = 1308 == 1308\n",
      "n=36 thresh=4.44e-01 1.08e-02s 642 + 670 = 1312 == 1312\n",
      "n=36 thresh=5.56e-01 1.26e-02s 696 + 610 = 1306 == 1306\n",
      "n=36 thresh=6.67e-01 1.20e-02s 608 + 663 = 1271 == 1271\n",
      "n=36 thresh=7.78e-01 1.27e-02s 698 + 626 = 1324 == 1324\n",
      "n=36 thresh=8.89e-01 1.12e-02s 620 + 665 = 1285 == 1285\n",
      "n=36 thresh=1.00e+00 1.13e-02s 658 + 673 = 1331 == 1331\n",
      "n=60 thresh=0.00e+00 3.35e-02s 1892 + 1776 = 3668 == 3668\n",
      "n=60 thresh=1.11e-01 4.08e-02s 1858 + 1745 = 3603 == 3603\n",
      "n=60 thresh=2.22e-01 3.82e-02s 1850 + 1816 = 3666 == 3666\n",
      "n=60 thresh=3.33e-01 3.63e-02s 1762 + 1808 = 3570 == 3570\n",
      "n=60 thresh=4.44e-01 3.34e-02s 1828 + 1800 = 3628 == 3628\n",
      "n=60 thresh=5.56e-01 4.24e-02s 1820 + 1822 = 3642 == 3642\n",
      "n=60 thresh=6.67e-01 3.72e-02s 1842 + 1815 = 3657 == 3657\n",
      "n=60 thresh=7.78e-01 4.15e-02s 1768 + 1796 = 3564 == 3564\n",
      "n=60 thresh=8.89e-01 3.71e-02s 1786 + 1849 = 3635 == 3635\n",
      "n=60 thresh=1.00e+00 4.11e-02s 1796 + 1763 = 3559 == 3559\n",
      "n=100 thresh=0.00e+00 1.06e-01s 4842 + 5030 = 9872 == 9872\n",
      "n=100 thresh=1.11e-01 1.26e-01s 4850 + 5011 = 9861 == 9861\n",
      "n=100 thresh=2.22e-01 1.29e-01s 5008 + 5013 = 10021 == 10021\n",
      "n=100 thresh=3.33e-01 1.13e-01s 4946 + 5078 = 10024 == 10024\n",
      "n=100 thresh=4.44e-01 1.38e-01s 5200 + 4893 = 10093 == 10093\n",
      "n=100 thresh=5.56e-01 1.43e-01s 4954 + 5037 = 9991 == 9991\n",
      "n=100 thresh=6.67e-01 1.34e-01s 4914 + 5023 = 9937 == 9937\n",
      "n=100 thresh=7.78e-01 1.67e-01s 5034 + 5033 = 10067 == 10067\n",
      "n=100 thresh=8.89e-01 1.74e-01s 5028 + 5042 = 10070 == 10070\n",
      "n=100 thresh=1.00e+00 1.50e-01s 5028 + 4983 = 10011 == 10011\n"
     ]
    }
   ],
   "source": [
    "thres = .5\n",
    "n = 100\n",
    "for n in np.round(np.logspace(0,2,10)).astype(int):\n",
    "    for thresh in np.linspace(0,1,2):\n",
    "        print 'n={:d} thresh={:1.2e}'.format(n,thresh),\n",
    "        bmap1 = (np.random.rand(n,n)>thresh).astype(float)\n",
    "        bmap2 = (np.random.rand(n,n)>thresh).astype(float)\n",
    "\n",
    "        match1 = zeros_like(bmap1)\n",
    "        match2 = zeros_like(bmap2)\n",
    "        t = time.time()\n",
    "        cost = matchEdgeMaps2D(bmap1,bmap2,match1,match2,.005,100)\n",
    "        print '{:1.2e}s'.format(time.time() - t),\n",
    "        npix = len(bmap1.nonzero()[0]) + len(bmap2.nonzero()[0])\n",
    "        ncor = len(match1.nonzero()[0]) + len(match1.nonzero()[0])\n",
    "        nout = len(((bmap1>0)&(match1==0)).nonzero()[0]) + len(((bmap2>0)&(match2==0)).nonzero()[0])\n",
    "        print ncor,'+',nout,'=',ncor+nout,'==',npix\n",
    "        if ncor+nout!=npix: raise ValueError(\"bug\")\n",
    "        match1f = match1.ravel()\n",
    "        idx1 = match1f.astype(int)\n",
    "        a1 = match1f.nonzero()[0]\n",
    "        a2 = match1f[idx1.nonzero()[0]].ravel()\n",
    "        a = vstack((a1,a2)).T\n",
    "\n",
    "\n",
    "        match2f = match2.ravel()\n",
    "        idx2 = match2f.astype(int)\n",
    "        b1 = match2f.nonzero()[0]\n",
    "        b2 = match2f[idx2.nonzero()[0]].ravel()\n",
    "        b = vstack((b2,b1)).T\n",
    "        b = b[b[:,0].argsort(),]\n",
    "        if sum(a-b): raise ValueError(\"bug\")"
   ]
  },
  {
   "cell_type": "code",
   "execution_count": 1,
   "metadata": {
    "collapsed": false
   },
   "outputs": [
    {
     "name": "stdout",
     "output_type": "stream",
     "text": [
      "Populating the interactive namespace from numpy and matplotlib\n",
      "n=1 thresh=1.00e-01 0.0001s 2 + 0 = 2 == 2\n",
      "n=1 thresh=3.33e-01 0.0001s 2 + 0 = 2 == 2\n",
      "n=1 thresh=5.67e-01 0.0000s 0 + 1 = 1 == 1\n",
      "n=1 thresh=8.00e-01 0.0000s 0 + 1 = 1 == 1\n",
      "n=4 thresh=1.00e-01 0.0011s 106 + 10 = 116 == 116\n",
      "n=4 thresh=3.33e-01 0.0006s 56 + 30 = 86 == 86\n",
      "n=4 thresh=5.67e-01 0.0002s 20 + 30 = 50 == 50\n",
      "n=4 thresh=8.00e-01 0.0001s 6 + 17 = 23 == 23\n",
      "n=16 thresh=1.00e-01 0.1794s 6626 + 750 = 7376 == 7376\n",
      "n=16 thresh=3.33e-01 0.0877s 3554 + 1842 = 5396 == 5396\n",
      "n=16 thresh=5.67e-01 0.0372s 1600 + 2034 = 3634 == 3634\n",
      "n=16 thresh=8.00e-01 0.0062s 364 + 1342 = 1706 == 1706\n",
      "n=64 thresh=1.00e-01 51.2662s 423894 + 48141 = 472035 == 472035\n",
      "n=64 thresh=3.33e-01 23.1552s 231730 + 117329 = 349059 == 349059\n",
      "n=64 thresh=5.67e-01 5.5559s 98024 + 129143 = 227167 == 227167\n",
      "n=64 thresh=8.00e-01 0.6521s 20674 + 83788 = 104462 == 104462\n"
     ]
    }
   ],
   "source": [
    "%pylab inline\n",
    "import time\n",
    "import numpy as np\n",
    "from segbench import csaAssign, correspondPixels, matchEdgeMaps2D, matchEdgeMaps3D2\n",
    "for n in np.round(np.logspace(0,6,4,base=2)).astype(int):\n",
    "    for thresh in np.linspace(.1,.8,4):\n",
    "        print 'n={:d} thresh={:1.2e}'.format(n,thresh),\n",
    "        bmap1 = (np.random.rand(n,n,n)>thresh).astype(float)\n",
    "        bmap2 = (np.random.rand(n,n,n)>thresh).astype(float)\n",
    "\n",
    "#         match1 = zeros_like(bmap1)\n",
    "#         match2 = zeros_like(bmap2)\n",
    "        t = time.time()\n",
    "        cost,match1,match2 = matchEdgeMaps3D2(bmap1,bmap2,.000005,100)\n",
    "        print '{:1.4f}s'.format(time.time() - t),\n",
    "        npix = len(bmap1.nonzero()[0]) + len(bmap2.nonzero()[0])\n",
    "        ncor = len(match1.nonzero()[0]) + len(match1.nonzero()[0])\n",
    "        nout = len(((bmap1>0)&(match1==0)).nonzero()[0]) + len(((bmap2>0)&(match2==0)).nonzero()[0])\n",
    "        print ncor,'+',nout,'=',ncor+nout,'==',npix\n",
    "        if ncor+nout!=npix: raise ValueError(\"bug\")\n",
    "        match1f = match1.ravel()\n",
    "        idx1 = match1f.astype(int)\n",
    "        a1 = match1f.nonzero()[0]\n",
    "        a2 = match1f[idx1.nonzero()[0]].ravel()\n",
    "        a = vstack((a1,a2)).T\n",
    "\n",
    "\n",
    "        match2f = match2.ravel()\n",
    "        idx2 = match2f.astype(int)\n",
    "        b1 = match2f.nonzero()[0]\n",
    "        b2 = match2f[idx2.nonzero()[0]].ravel()\n",
    "        b = vstack((b2,b1)).T\n",
    "        b = b[b[:,0].argsort(),]\n",
    "        if sum(a-b): raise ValueError(\"bug\")"
   ]
  },
  {
   "cell_type": "code",
   "execution_count": null,
   "metadata": {
    "collapsed": true
   },
   "outputs": [],
   "source": []
  }
 ],
 "metadata": {
  "kernelspec": {
   "display_name": "Python 2",
   "language": "python",
   "name": "python2"
  },
  "language_info": {
   "codemirror_mode": {
    "name": "ipython",
    "version": 2
   },
   "file_extension": ".py",
   "mimetype": "text/x-python",
   "name": "python",
   "nbconvert_exporter": "python",
   "pygments_lexer": "ipython2",
   "version": "2.7.9"
  }
 },
 "nbformat": 4,
 "nbformat_minor": 0
}
