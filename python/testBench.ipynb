{
 "cells": [
  {
   "cell_type": "code",
   "execution_count": 1,
   "metadata": {
    "collapsed": false,
    "scrolled": false
   },
   "outputs": [
    {
     "name": "stdout",
     "output_type": "stream",
     "text": [
      "Populating the interactive namespace from numpy and matplotlib\n"
     ]
    }
   ],
   "source": [
    "%pylab inline\n",
    "import time\n",
    "import numpy as np\n",
    "from segbench import csaAssign, correspondPixels"
   ]
  },
  {
   "cell_type": "code",
   "execution_count": 2,
   "metadata": {
    "collapsed": false
   },
   "outputs": [],
   "source": [
    "data = np.array([[1, 4, 3],\n",
    "    [2, 5, 3],\n",
    "    [3, 6, 3],\n",
    "    [1, 5, 1],\n",
    "    [2, 6, 1],\n",
    "    [3, 4, 5]])\n",
    "n = 6\n",
    "e1 = csaAssign(n,data)"
   ]
  },
  {
   "cell_type": "code",
   "execution_count": 3,
   "metadata": {
    "collapsed": false
   },
   "outputs": [
    {
     "name": "stdout",
     "output_type": "stream",
     "text": [
      "8.638e-02s\n"
     ]
    }
   ],
   "source": [
    "n = 1000\n",
    "dg = np.random.rand(n,n)>.5\n",
    "m = np.sum(dg.flat)\n",
    "i = np.array(dg.ravel().nonzero()).astype(float)\n",
    "g1 = 1+np.floor(np.divide(i,n))\n",
    "g2 = (1+np.floor(np.divide(i,n)),\n",
    "     1+ np.mod(i,n)+n,\n",
    "     1+np.floor(np.random.rand(1,m))*1000)\n",
    "g2 = np.array(np.vstack(g2)).T\n",
    "t = time.time()\n",
    "e2 = csaAssign(n*2,g2)\n",
    "print '{:.3e}s'.format(time.time() - t)"
   ]
  },
  {
   "cell_type": "code",
   "execution_count": 4,
   "metadata": {
    "collapsed": false
   },
   "outputs": [
    {
     "name": "stdout",
     "output_type": "stream",
     "text": [
      "1000 499371 (4.0, 1983.0, 1.0)\n"
     ]
    }
   ],
   "source": [
    "esum = np.sum(e2,axis=0)\n",
    "if not all(esum[0:2]==(n*(n+1)/2,n*(n+1)/2+n*n)): raise ValueError(\"bug\")\n",
    "if not np.sum(esum[0:2])==(2*n*(2*n+1)/2): raise ValueError(\"bug\")\n",
    "print n,m, e2[3][:]"
   ]
  },
  {
   "cell_type": "code",
   "execution_count": 5,
   "metadata": {
    "collapsed": false,
    "scrolled": false
   },
   "outputs": [
    {
     "name": "stdout",
     "output_type": "stream",
     "text": [
      "n=1 thresh=0.00e+00 7.01e-04s 1 0 1\n",
      "n=1 thresh=1.11e-01 1.91e-05s 1 0 1\n",
      "n=1 thresh=2.22e-01 1.10e-05s 1 0 1\n",
      "n=1 thresh=3.33e-01 2.40e-04s 2 2 0\n",
      "n=1 thresh=4.44e-01 1.10e-05s 1 0 1\n",
      "n=1 thresh=5.56e-01 1.00e-05s 1 0 1\n",
      "n=1 thresh=6.67e-01 3.22e-05s 2 2 0\n",
      "n=1 thresh=7.78e-01 3.00e-05s 2 2 0\n",
      "n=1 thresh=8.89e-01 8.11e-06s 0 0 0\n",
      "n=1 thresh=1.00e+00 1.60e-05s 0 0 0\n",
      "n=2 thresh=0.00e+00 4.79e-05s 5 2 3\n",
      "n=2 thresh=1.11e-01 1.38e-05s 4 0 4\n",
      "n=2 thresh=2.22e-01 3.41e-05s 3 2 1\n",
      "n=2 thresh=3.33e-01 1.60e-05s 3 0 3\n",
      "n=2 thresh=4.44e-01 1.10e-05s 3 0 3\n",
      "n=2 thresh=5.56e-01 4.79e-05s 3 2 1\n",
      "n=2 thresh=6.67e-01 3.91e-05s 6 4 2\n",
      "n=2 thresh=7.78e-01 1.10e-05s 2 0 2\n",
      "n=2 thresh=8.89e-01 3.60e-05s 5 2 3\n",
      "n=2 thresh=1.00e+00 3.10e-05s 5 2 3\n",
      "n=3 thresh=0.00e+00 2.29e-05s 5 0 5\n",
      "n=3 thresh=1.11e-01 6.48e-05s 8 4 4\n",
      "n=3 thresh=2.22e-01 4.91e-05s 9 6 3\n",
      "n=3 thresh=3.33e-01 8.61e-05s 11 8 3\n",
      "n=3 thresh=4.44e-01 1.19e-05s 8 0 8\n",
      "n=3 thresh=5.56e-01 1.07e-04s 13 12 1\n",
      "n=3 thresh=6.67e-01 1.00e-05s 2 0 2\n",
      "n=3 thresh=7.78e-01 3.60e-05s 8 4 4\n",
      "n=3 thresh=8.89e-01 6.91e-05s 12 8 4\n",
      "n=3 thresh=1.00e+00 5.41e-05s 9 6 3\n",
      "n=5 thresh=0.00e+00 1.50e-04s 30 18 12\n",
      "n=5 thresh=1.11e-01 1.45e-04s 28 16 12\n",
      "n=5 thresh=2.22e-01 2.28e-04s 29 24 5\n",
      "n=5 thresh=3.33e-01 1.45e-04s 28 16 12\n",
      "n=5 thresh=4.44e-01 1.52e-04s 29 16 13\n",
      "n=5 thresh=5.56e-01 9.70e-05s 21 10 11\n",
      "n=5 thresh=6.67e-01 7.01e-05s 24 8 16\n",
      "n=5 thresh=7.78e-01 1.22e-04s 27 14 13\n",
      "n=5 thresh=8.89e-01 6.99e-05s 25 8 17\n",
      "n=5 thresh=1.00e+00 2.07e-04s 32 22 10\n",
      "n=8 thresh=0.00e+00 3.23e-04s 62 36 26\n",
      "n=8 thresh=1.11e-01 2.84e-04s 62 30 32\n",
      "n=8 thresh=2.22e-01 3.01e-04s 67 36 31\n",
      "n=8 thresh=3.33e-01 4.46e-04s 67 40 27\n",
      "n=8 thresh=4.44e-01 3.40e-04s 70 34 36\n",
      "n=8 thresh=5.56e-01 2.93e-04s 65 34 31\n",
      "n=8 thresh=6.67e-01 3.69e-04s 74 44 30\n",
      "n=8 thresh=7.78e-01 2.72e-04s 66 36 30\n",
      "n=8 thresh=8.89e-01 2.46e-04s 60 32 28\n",
      "n=8 thresh=1.00e+00 3.17e-04s 62 30 32\n",
      "n=13 thresh=0.00e+00 7.37e-04s 167 78 89\n",
      "n=13 thresh=1.11e-01 8.33e-04s 159 80 79\n",
      "n=13 thresh=2.22e-01 7.70e-04s 152 68 84\n",
      "n=13 thresh=3.33e-01 8.47e-04s 164 78 86\n",
      "n=13 thresh=4.44e-01 7.10e-04s 160 72 88\n",
      "n=13 thresh=5.56e-01 8.97e-04s 176 98 78\n",
      "n=13 thresh=6.67e-01 1.06e-03s 179 100 79\n",
      "n=13 thresh=7.78e-01 7.30e-04s 164 82 82\n",
      "n=13 thresh=8.89e-01 7.55e-04s 179 84 95\n",
      "n=13 thresh=1.00e+00 8.53e-04s 162 84 78\n",
      "n=22 thresh=0.00e+00 2.88e-03s 468 242 226\n",
      "n=22 thresh=1.11e-01 2.93e-03s 460 222 238\n",
      "n=22 thresh=2.22e-01 2.85e-03s 484 250 234\n",
      "n=22 thresh=3.33e-01 2.81e-03s 449 196 253\n",
      "n=22 thresh=4.44e-01 2.89e-03s 475 240 235\n",
      "n=22 thresh=5.56e-01 3.28e-03s 517 262 255\n",
      "n=22 thresh=6.67e-01 3.71e-03s 487 244 243\n",
      "n=22 thresh=7.78e-01 3.73e-03s 468 222 246\n",
      "n=22 thresh=8.89e-01 4.40e-03s 503 262 241\n",
      "n=22 thresh=1.00e+00 3.47e-03s 463 224 239\n",
      "n=36 thresh=0.00e+00 1.29e-02s 1294 664 630\n",
      "n=36 thresh=1.11e-01 1.45e-02s 1336 668 668\n",
      "n=36 thresh=2.22e-01 1.13e-02s 1280 658 622\n",
      "n=36 thresh=3.33e-01 1.01e-02s 1275 622 653\n",
      "n=36 thresh=4.44e-01 1.64e-02s 1350 706 644\n",
      "n=36 thresh=5.56e-01 1.18e-02s 1284 604 680\n",
      "n=36 thresh=6.67e-01 1.03e-02s 1302 634 668\n",
      "n=36 thresh=7.78e-01 1.02e-02s 1261 636 625\n",
      "n=36 thresh=8.89e-01 1.27e-02s 1344 692 652\n",
      "n=36 thresh=1.00e+00 1.16e-02s 1293 636 657\n",
      "n=60 thresh=0.00e+00 4.43e-02s 3703 1924 1779\n",
      "n=60 thresh=1.11e-01 4.73e-02s 3618 1850 1768\n",
      "n=60 thresh=2.22e-01 4.07e-02s 3540 1736 1804\n",
      "n=60 thresh=3.33e-01 4.35e-02s 3627 1834 1793\n",
      "n=60 thresh=4.44e-01 3.96e-02s 3590 1810 1780\n",
      "n=60 thresh=5.56e-01 3.60e-02s 3592 1780 1812\n",
      "n=60 thresh=6.67e-01 3.92e-02s 3601 1800 1801\n",
      "n=60 thresh=7.78e-01 4.61e-02s 3597 1834 1763\n",
      "n=60 thresh=8.89e-01 3.91e-02s 3655 1838 1817\n",
      "n=60 thresh=1.00e+00 4.41e-02s 3694 1934 1760\n",
      "n=100 thresh=0.00e+00 1.22e-01s 10113 5092 5021\n",
      "n=100 thresh=1.11e-01 1.31e-01s 9935 4878 5057\n",
      "n=100 thresh=2.22e-01 1.57e-01s 10096 5094 5002\n",
      "n=100 thresh=3.33e-01 2.14e-01s 10006 5060 4946\n",
      "n=100 thresh=4.44e-01 1.92e-01s 10068 5108 4960\n",
      "n=100 thresh=5.56e-01 1.88e-01s 10080 5060 5020\n",
      "n=100 thresh=6.67e-01 1.57e-01s 9966 4936 5030\n",
      "n=100 thresh=7.78e-01 1.75e-01s 10069 5016 5053\n",
      "n=100 thresh=8.89e-01 1.70e-01s 9974 4968 5006\n",
      "n=100 thresh=1.00e+00 1.62e-01s 10015 5052 4963\n"
     ]
    }
   ],
   "source": [
    "thres = .5\n",
    "n = 100\n",
    "for n in np.round(np.logspace(0,2,10)).astype(int):\n",
    "    for thresh in np.linspace(0,1,10):\n",
    "        print 'n={:d} thresh={:1.2e}'.format(n,thresh),\n",
    "        bmap1 = (np.random.rand(n,n)>thres).astype(float)\n",
    "        bmap2 = (np.random.rand(n,n)>thres).astype(float)\n",
    "\n",
    "        match1 = zeros_like(bmap1)\n",
    "        match2 = zeros_like(bmap2)\n",
    "        t = time.time()\n",
    "        cost,oc = correspondPixels(bmap1,bmap2,match1,match2,.005)\n",
    "        print '{:1.2e}s'.format(time.time() - t),\n",
    "        npix = len(bmap1.nonzero()[0]) + len(bmap2.nonzero()[0])\n",
    "        ncor = len(match1.nonzero()[0]) + len(match1.nonzero()[0])\n",
    "        nout = len(((bmap1>0)&(match1==0)).nonzero()[0]) + len(((bmap2>0)&(match2==0)).nonzero()[0])\n",
    "        print npix,ncor,nout\n",
    "        if ncor+nout!=npix: raise ValueError(\"bug\")\n",
    "        match1f = match1.ravel()\n",
    "        idx1 = match1f.astype(int)\n",
    "        a1 = match1f.nonzero()[0]\n",
    "        a2 = match1f[idx1.nonzero()[0]].ravel()\n",
    "        a = vstack((a1,a2)).T\n",
    "\n",
    "\n",
    "        match2f = match2.ravel()\n",
    "        idx2 = match2f.astype(int)\n",
    "        b1 = match2f.nonzero()[0]\n",
    "        b2 = match2f[idx2.nonzero()[0]].ravel()\n",
    "        b = vstack((b2,b1)).T\n",
    "        b = b[b[:,0].argsort(),]\n",
    "        if sum(a-b): raise ValueError(\"bug\")"
   ]
  },
  {
   "cell_type": "code",
   "execution_count": null,
   "metadata": {
    "collapsed": true
   },
   "outputs": [],
   "source": []
  }
 ],
 "metadata": {
  "kernelspec": {
   "display_name": "Python 2",
   "language": "python",
   "name": "python2"
  },
  "language_info": {
   "codemirror_mode": {
    "name": "ipython",
    "version": 2
   },
   "file_extension": ".py",
   "mimetype": "text/x-python",
   "name": "python",
   "nbconvert_exporter": "python",
   "pygments_lexer": "ipython2",
   "version": "2.7.9"
  }
 },
 "nbformat": 4,
 "nbformat_minor": 0
}
