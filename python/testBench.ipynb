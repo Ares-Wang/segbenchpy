{
 "cells": [
  {
   "cell_type": "code",
   "execution_count": 1,
   "metadata": {
    "collapsed": false,
    "scrolled": false
   },
   "outputs": [
    {
     "name": "stdout",
     "output_type": "stream",
     "text": [
      "Populating the interactive namespace from numpy and matplotlib\n"
     ]
    }
   ],
   "source": [
    "%pylab inline\n",
    "import time\n",
    "import numpy as np\n",
    "from segbench import csaAssign, correspondPixels, matchEdgeMaps2D, matchEdgeMaps3D"
   ]
  },
  {
   "cell_type": "code",
   "execution_count": 2,
   "metadata": {
    "collapsed": false
   },
   "outputs": [
    {
     "name": "stdout",
     "output_type": "stream",
     "text": [
      "[[ 1.  5.  1.]\n",
      " [ 2.  6.  1.]\n",
      " [ 3.  4.  5.]]\n"
     ]
    }
   ],
   "source": [
    "data = np.array([[1, 4, 3],\n",
    "    [2, 5, 3],\n",
    "    [3, 6, 3],\n",
    "    [1, 5, 1],\n",
    "    [2, 6, 1],\n",
    "    [3, 4, 5]])\n",
    "n = 6\n",
    "e1 = csaAssign(n,data)\n",
    "print e1"
   ]
  },
  {
   "cell_type": "code",
   "execution_count": 3,
   "metadata": {
    "collapsed": false
   },
   "outputs": [
    {
     "name": "stdout",
     "output_type": "stream",
     "text": [
      "1.022e-01s\n",
      "1000 500149 [  4.00000000e+00   1.99600000e+03   1.00000000e+00]\n"
     ]
    }
   ],
   "source": [
    "n = 1000\n",
    "dg = np.random.rand(n,n)>.5\n",
    "m = np.sum(dg.flat)\n",
    "i = np.array(dg.ravel().nonzero()).astype(float)\n",
    "g1 = 1+np.floor(np.divide(i,n))\n",
    "g2 = (1+np.floor(np.divide(i,n)),\n",
    "     1+ np.mod(i,n)+n,\n",
    "     1+np.floor(np.random.rand(1,m))*1000)\n",
    "g2 = np.array(np.vstack(g2)).T\n",
    "t = time.time()\n",
    "e2 = csaAssign(n*2,g2)\n",
    "print '{:.3e}s'.format(time.time() - t)\n",
    "esum = np.sum(e2,axis=0)\n",
    "if not all(esum[0:2]==(n*(n+1)/2,n*(n+1)/2+n*n)): raise ValueError(\"bug\")\n",
    "if not np.sum(esum[0:2])==(2*n*(2*n+1)/2): raise ValueError(\"bug\")\n",
    "print n,m, e2[3][:]"
   ]
  },
  {
   "cell_type": "code",
   "execution_count": 4,
   "metadata": {
    "collapsed": false,
    "scrolled": false
   },
   "outputs": [
    {
     "name": "stdout",
     "output_type": "stream",
     "text": [
      "n=1 thresh=0.00e+00 4.81e-03s 2 2 0\n",
      "n=1 thresh=1.11e-01 4.60e-05s 2 2 0\n",
      "n=1 thresh=2.22e-01 4.10e-05s 2 2 0\n",
      "n=1 thresh=3.33e-01 2.10e-05s 1 0 1\n",
      "n=1 thresh=4.44e-01 2.10e-05s 0 0 0\n",
      "n=1 thresh=5.56e-01 2.22e-05s 0 0 0\n",
      "n=1 thresh=6.67e-01 2.10e-05s 1 0 1\n",
      "n=1 thresh=7.78e-01 2.00e-05s 0 0 0\n",
      "n=1 thresh=8.89e-01 2.00e-05s 1 0 1\n",
      "n=1 thresh=1.00e+00 1.98e-05s 0 0 0\n",
      "n=2 thresh=0.00e+00 7.89e-05s 8 8 0\n",
      "n=2 thresh=1.11e-01 5.60e-05s 7 6 1\n",
      "n=2 thresh=2.22e-01 7.10e-05s 8 8 0\n",
      "n=2 thresh=3.33e-01 5.48e-05s 7 6 1\n",
      "n=2 thresh=4.44e-01 4.82e-05s 6 4 2\n",
      "n=2 thresh=5.56e-01 2.10e-05s 1 0 1\n",
      "n=2 thresh=6.67e-01 2.00e-05s 2 0 2\n",
      "n=2 thresh=7.78e-01 2.10e-05s 0 0 0\n",
      "n=2 thresh=8.89e-01 2.10e-05s 2 0 2\n",
      "n=2 thresh=1.00e+00 2.38e-05s 0 0 0\n",
      "n=3 thresh=0.00e+00 1.71e-04s 18 18 0\n",
      "n=3 thresh=1.11e-01 1.48e-04s 17 16 1\n",
      "n=3 thresh=2.22e-01 1.11e-04s 14 12 2\n",
      "n=3 thresh=3.33e-01 4.82e-05s 10 4 6\n",
      "n=3 thresh=4.44e-01 2.38e-05s 6 0 6\n",
      "n=3 thresh=5.56e-01 4.20e-05s 4 2 2\n",
      "n=3 thresh=6.67e-01 2.19e-05s 3 0 3\n",
      "n=3 thresh=7.78e-01 5.48e-05s 9 6 3\n",
      "n=3 thresh=8.89e-01 4.41e-05s 5 2 3\n",
      "n=3 thresh=1.00e+00 2.50e-05s 0 0 0\n",
      "n=5 thresh=0.00e+00 4.79e-04s 50 50 0\n",
      "n=5 thresh=1.11e-01 4.33e-04s 48 46 2\n",
      "n=5 thresh=2.22e-01 3.92e-04s 40 32 8\n",
      "n=5 thresh=3.33e-01 3.94e-04s 35 24 11\n",
      "n=5 thresh=4.44e-01 2.01e-04s 27 12 15\n",
      "n=5 thresh=5.56e-01 7.30e-05s 18 2 16\n",
      "n=5 thresh=6.67e-01 8.30e-05s 16 2 14\n",
      "n=5 thresh=7.78e-01 7.80e-05s 11 4 7\n",
      "n=5 thresh=8.89e-01 4.70e-05s 5 0 5\n",
      "n=5 thresh=1.00e+00 2.60e-05s 0 0 0\n",
      "n=8 thresh=0.00e+00 1.63e-03s 128 128 0\n",
      "n=8 thresh=1.11e-01 1.40e-03s 108 90 18\n",
      "n=8 thresh=2.22e-01 1.06e-03s 96 76 20\n",
      "n=8 thresh=3.33e-01 6.89e-04s 84 64 20\n",
      "n=8 thresh=4.44e-01 6.18e-04s 69 38 31\n",
      "n=8 thresh=5.56e-01 2.88e-04s 64 28 36\n",
      "n=8 thresh=6.67e-01 1.62e-04s 47 16 31\n",
      "n=8 thresh=7.78e-01 6.60e-05s 30 4 26\n",
      "n=8 thresh=8.89e-01 3.39e-05s 18 0 18\n",
      "n=8 thresh=1.00e+00 2.69e-05s 0 0 0\n",
      "n=13 thresh=0.00e+00 4.43e-03s 338 338 0\n",
      "n=13 thresh=1.11e-01 3.88e-03s 305 274 31\n",
      "n=13 thresh=2.22e-01 3.70e-03s 272 220 52\n",
      "n=13 thresh=3.33e-01 1.71e-03s 228 150 78\n",
      "n=13 thresh=4.44e-01 1.36e-03s 187 112 75\n",
      "n=13 thresh=5.56e-01 6.90e-04s 145 62 83\n",
      "n=13 thresh=6.67e-01 3.03e-04s 115 30 85\n",
      "n=13 thresh=7.78e-01 1.22e-04s 61 10 51\n",
      "n=13 thresh=8.89e-01 6.51e-05s 38 2 36\n",
      "n=13 thresh=1.00e+00 3.39e-05s 0 0 0\n",
      "n=22 thresh=0.00e+00 1.94e-02s 968 966 2\n",
      "n=22 thresh=1.11e-01 1.47e-02s 856 760 96\n",
      "n=22 thresh=2.22e-01 1.19e-02s 745 578 167\n",
      "n=22 thresh=3.33e-01 7.63e-03s 665 466 199\n",
      "n=22 thresh=4.44e-01 4.57e-03s 542 304 238\n",
      "n=22 thresh=5.56e-01 2.45e-03s 429 202 227\n",
      "n=22 thresh=6.67e-01 1.37e-03s 315 94 221\n",
      "n=22 thresh=7.78e-01 7.19e-04s 210 62 148\n",
      "n=22 thresh=8.89e-01 2.43e-04s 102 18 84\n",
      "n=22 thresh=1.00e+00 6.41e-05s 0 0 0\n",
      "n=36 thresh=0.00e+00 6.62e-02s 2592 2584 8\n",
      "n=36 thresh=1.11e-01 4.97e-02s 2293 2026 267\n",
      "n=36 thresh=2.22e-01 3.06e-02s 1990 1518 472\n",
      "n=36 thresh=3.33e-01 2.38e-02s 1737 1182 555\n",
      "n=36 thresh=4.44e-01 1.80e-02s 1465 828 637\n",
      "n=36 thresh=5.56e-01 9.49e-03s 1138 504 634\n",
      "n=36 thresh=6.67e-01 3.99e-03s 853 274 579\n",
      "n=36 thresh=7.78e-01 1.64e-03s 529 116 413\n",
      "n=36 thresh=8.89e-01 6.01e-04s 294 36 258\n",
      "n=36 thresh=1.00e+00 1.32e-04s 0 0 0\n",
      "n=60 thresh=0.00e+00 1.85e-01s 7200 7186 14\n",
      "n=60 thresh=1.11e-01 1.50e-01s 6377 5630 747\n",
      "n=60 thresh=2.22e-01 1.23e-01s 5571 4284 1287\n",
      "n=60 thresh=3.33e-01 7.72e-02s 4781 3148 1633\n",
      "n=60 thresh=4.44e-01 5.62e-02s 3968 2178 1790\n",
      "n=60 thresh=5.56e-01 3.44e-02s 3210 1426 1784\n",
      "n=60 thresh=6.67e-01 1.48e-02s 2415 852 1563\n",
      "n=60 thresh=7.78e-01 5.76e-03s 1551 354 1197\n",
      "n=60 thresh=8.89e-01 1.19e-03s 726 66 660\n",
      "n=60 thresh=1.00e+00 3.49e-04s 0 0 0\n",
      "n=100 thresh=0.00e+00 7.50e-01s 20000 19950 50\n",
      "n=100 thresh=1.11e-01 5.40e-01s 17862 15942 1920\n",
      "n=100 thresh=2.22e-01 3.41e-01s 15493 11960 3533\n",
      "n=100 thresh=3.33e-01 2.60e-01s 13402 8922 4480\n",
      "n=100 thresh=4.44e-01 1.76e-01s 11086 6172 4914\n",
      "n=100 thresh=5.56e-01 1.03e-01s 8861 3940 4921\n",
      "n=100 thresh=6.67e-01 5.42e-02s 6749 2296 4453\n",
      "n=100 thresh=7.78e-01 2.18e-02s 4488 984 3504\n",
      "n=100 thresh=8.89e-01 4.52e-03s 2174 226 1948\n",
      "n=100 thresh=1.00e+00 1.00e-03s 0 0 0\n"
     ]
    }
   ],
   "source": [
    "for n in np.round(np.logspace(0,2,10)).astype(int):\n",
    "    for thresh in np.linspace(0,1,10):\n",
    "        print 'n={:d} thresh={:1.2e}'.format(n,thresh),\n",
    "        bmap1 = (np.random.rand(n,n)>thresh).astype(float)\n",
    "        bmap2 = (np.random.rand(n,n)>thresh).astype(float)\n",
    "\n",
    "        match1 = zeros_like(bmap1)\n",
    "        match2 = zeros_like(bmap2)\n",
    "        t = time.time()\n",
    "        cost,oc,match1,match2 = correspondPixels(bmap1,bmap2,.005)\n",
    "        print '{:1.2e}s'.format(time.time() - t),\n",
    "        npix = len(bmap1.nonzero()[0]) + len(bmap2.nonzero()[0])\n",
    "        ncor = len(match1.nonzero()[0]) + len(match1.nonzero()[0])\n",
    "        nout = len(((bmap1>0)&(match1==0)).nonzero()[0]) + len(((bmap2>0)&(match2==0)).nonzero()[0])\n",
    "        print npix,ncor,nout\n",
    "        if ncor+nout!=npix: raise ValueError(\"bug\")\n",
    "        match1f = match1.ravel()\n",
    "        idx1 = match1f.astype(int)\n",
    "        a1 = match1f.nonzero()[0]\n",
    "        a2 = match1f[idx1.nonzero()[0]].ravel()\n",
    "        a = vstack((a1,a2)).T\n",
    "\n",
    "\n",
    "        match2f = match2.ravel()\n",
    "        idx2 = match2f.astype(int)\n",
    "        b1 = match2f.nonzero()[0]\n",
    "        b2 = match2f[idx2.nonzero()[0]].ravel()\n",
    "        b = vstack((b2,b1)).T\n",
    "        b = b[b[:,0].argsort(),]\n",
    "        if sum(a-b): raise ValueError(\"bug\")"
   ]
  },
  {
   "cell_type": "code",
   "execution_count": 5,
   "metadata": {
    "collapsed": false
   },
   "outputs": [
    {
     "name": "stdout",
     "output_type": "stream",
     "text": [
      "n=1 thresh=0.00e+00 7.70e-05s 2 + 0 = 2 == 2\n",
      "n=1 thresh=1.00e+00 8.11e-05s 0 + 0 = 0 == 0\n",
      "n=2 thresh=0.00e+00 1.89e-04s 8 + 0 = 8 == 8\n",
      "n=2 thresh=1.00e+00 7.39e-05s 0 + 0 = 0 == 0\n",
      "n=3 thresh=0.00e+00 3.99e-04s 18 + 0 = 18 == 18\n",
      "n=3 thresh=1.00e+00 6.39e-05s 0 + 0 = 0 == 0\n",
      "n=5 thresh=0.00e+00 5.45e-04s 50 + 0 = 50 == 50\n",
      "n=5 thresh=1.00e+00 8.20e-05s 0 + 0 = 0 == 0\n",
      "n=8 thresh=0.00e+00 1.79e-03s 128 + 0 = 128 == 128\n",
      "n=8 thresh=1.00e+00 4.41e-05s 0 + 0 = 0 == 0\n",
      "n=13 thresh=0.00e+00 5.38e-03s 338 + 0 = 338 == 338\n",
      "n=13 thresh=1.00e+00 5.01e-05s 0 + 0 = 0 == 0\n",
      "n=22 thresh=0.00e+00 1.69e-02s 966 + 2 = 968 == 968\n",
      "n=22 thresh=1.00e+00 7.01e-05s 0 + 0 = 0 == 0\n",
      "n=36 thresh=0.00e+00 5.22e-02s 2582 + 10 = 2592 == 2592\n",
      "n=36 thresh=1.00e+00 1.49e-04s 0 + 0 = 0 == 0\n",
      "n=60 thresh=0.00e+00 1.75e-01s 7182 + 18 = 7200 == 7200\n",
      "n=60 thresh=1.00e+00 3.40e-04s 0 + 0 = 0 == 0\n",
      "n=100 thresh=0.00e+00 6.34e-01s 19952 + 48 = 20000 == 20000\n",
      "n=100 thresh=1.00e+00 8.62e-04s 0 + 0 = 0 == 0\n"
     ]
    }
   ],
   "source": [
    "for n in np.round(np.logspace(0,2,10)).astype(int):\n",
    "    for thresh in np.linspace(0,1,2):\n",
    "        print 'n={:d} thresh={:1.2e}'.format(n,thresh),\n",
    "        bmap1 = (np.random.rand(n,n)>thresh).astype(float)\n",
    "        bmap2 = (np.random.rand(n,n)>thresh).astype(float)\n",
    "        t = time.time()\n",
    "        cost,match1,match2 = matchEdgeMaps2D(bmap1,bmap2,.005,100)\n",
    "        print '{:1.2e}s'.format(time.time() - t),\n",
    "        npix = len(bmap1.nonzero()[0]) + len(bmap2.nonzero()[0])\n",
    "        ncor = len(match1.nonzero()[0]) + len(match1.nonzero()[0])\n",
    "        nout = len(((bmap1>0)&(match1==0)).nonzero()[0]) + len(((bmap2>0)&(match2==0)).nonzero()[0])\n",
    "        print ncor,'+',nout,'=',ncor+nout,'==',npix\n",
    "        if ncor+nout!=npix: raise ValueError(\"bug\")\n",
    "        match1f = match1.ravel()\n",
    "        idx1 = match1f.astype(int)\n",
    "        a1 = match1f.nonzero()[0]\n",
    "        a2 = match1f[idx1.nonzero()[0]].ravel()\n",
    "        a = vstack((a1,a2)).T\n",
    "\n",
    "\n",
    "        match2f = match2.ravel()\n",
    "        idx2 = match2f.astype(int)\n",
    "        b1 = match2f.nonzero()[0]\n",
    "        b2 = match2f[idx2.nonzero()[0]].ravel()\n",
    "        b = vstack((b2,b1)).T\n",
    "        b = b[b[:,0].argsort(),]\n",
    "        if sum(a-b): raise ValueError(\"bug\")"
   ]
  },
  {
   "cell_type": "code",
   "execution_count": 6,
   "metadata": {
    "collapsed": false
   },
   "outputs": [
    {
     "name": "stdout",
     "output_type": "stream",
     "text": [
      "n=1 thresh=5.00e-01 0.0001s 0 + 1 = 1 == 1\n",
      "n=1 thresh=6.33e-01 0.0000s 0 + 1 = 1 == 1\n",
      "n=1 thresh=7.67e-01 0.0001s 0 + 1 = 1 == 1\n",
      "n=1 thresh=9.00e-01 0.0000s 0 + 0 = 0 == 0\n",
      "n=4 thresh=5.00e-01 0.0003s 22 + 32 = 54 == 54\n",
      "n=4 thresh=6.33e-01 0.0003s 22 + 29 = 51 == 51\n",
      "n=4 thresh=7.67e-01 0.0001s 4 + 25 = 29 == 29\n",
      "n=4 thresh=9.00e-01 0.0000s 0 + 11 = 11 == 11\n",
      "n=16 thresh=5.00e-01 0.0492s 2080 + 2005 = 4085 == 4085\n",
      "n=16 thresh=6.33e-01 0.0221s 1088 + 1909 = 2997 == 2997\n",
      "n=16 thresh=7.67e-01 0.0083s 474 + 1417 = 1891 == 1891\n",
      "n=16 thresh=9.00e-01 0.0016s 98 + 704 = 802 == 802\n",
      "n=64 thresh=5.00e-01 10.0760s 130904 + 131269 = 262173 == 262173\n",
      "n=64 thresh=6.33e-01 3.4448s 69638 + 122447 = 192085 == 192085\n",
      "n=64 thresh=7.67e-01 1.1007s 28796 + 93989 = 122785 == 122785\n",
      "n=64 thresh=9.00e-01 0.1713s 5264 + 47035 = 52299 == 52299\n"
     ]
    }
   ],
   "source": [
    "for n in np.round(np.logspace(0,6,4,base=2)).astype(int):\n",
    "    for thresh in np.linspace(.5,.9,4):\n",
    "        print 'n={:d} thresh={:1.2e}'.format(n,thresh),\n",
    "        bmap1 = (np.random.rand(n,n,n)>thresh).astype(float)\n",
    "        bmap2 = (np.random.rand(n,n,n)>thresh).astype(float)\n",
    "\n",
    "        t = time.time()\n",
    "        cost,match1,match2 = matchEdgeMaps3D(bmap1,bmap2,.000005,100)\n",
    "        print '{:1.4f}s'.format(time.time() - t),\n",
    "        npix = len(bmap1.nonzero()[0]) + len(bmap2.nonzero()[0])\n",
    "        ncor = len(match1.nonzero()[0]) + len(match1.nonzero()[0])\n",
    "        nout = len(((bmap1>0)&(match1==0)).nonzero()[0]) + len(((bmap2>0)&(match2==0)).nonzero()[0])\n",
    "        print ncor,'+',nout,'=',ncor+nout,'==',npix\n",
    "        if ncor+nout!=npix: raise ValueError(\"bug\")\n",
    "        match1f = match1.ravel()\n",
    "        idx1 = match1f.astype(int)\n",
    "        a1 = match1f.nonzero()[0]\n",
    "        a2 = match1f[idx1.nonzero()[0]].ravel()\n",
    "        a = vstack((a1,a2)).T\n",
    "\n",
    "\n",
    "        match2f = match2.ravel()\n",
    "        idx2 = match2f.astype(int)\n",
    "        b1 = match2f.nonzero()[0]\n",
    "        b2 = match2f[idx2.nonzero()[0]].ravel()\n",
    "        b = vstack((b2,b1)).T\n",
    "        b = b[b[:,0].argsort(),]\n",
    "        if sum(a-b): raise ValueError(\"bug\")"
   ]
  },
  {
   "cell_type": "code",
   "execution_count": null,
   "metadata": {
    "collapsed": true
   },
   "outputs": [],
   "source": []
  },
  {
   "cell_type": "code",
   "execution_count": null,
   "metadata": {
    "collapsed": true
   },
   "outputs": [],
   "source": []
  }
 ],
 "metadata": {
  "kernelspec": {
   "display_name": "Python 2",
   "language": "python",
   "name": "python2"
  },
  "language_info": {
   "codemirror_mode": {
    "name": "ipython",
    "version": 2
   },
   "file_extension": ".py",
   "mimetype": "text/x-python",
   "name": "python",
   "nbconvert_exporter": "python",
   "pygments_lexer": "ipython2",
   "version": "2.7.9"
  }
 },
 "nbformat": 4,
 "nbformat_minor": 0
}
