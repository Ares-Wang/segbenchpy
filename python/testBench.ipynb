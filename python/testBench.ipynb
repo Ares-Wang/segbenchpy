{
 "cells": [
  {
   "cell_type": "code",
   "execution_count": 1,
   "metadata": {
    "collapsed": false,
    "scrolled": false
   },
   "outputs": [
    {
     "name": "stdout",
     "output_type": "stream",
     "text": [
      "Populating the interactive namespace from numpy and matplotlib\n"
     ]
    }
   ],
   "source": [
    "%pylab inline\n",
    "import time\n",
    "import numpy as np\n",
    "from segbench import csaAssign, correspondPixels, matchEdgeMaps2D, matchEdgeMaps3D"
   ]
  },
  {
   "cell_type": "code",
   "execution_count": 2,
   "metadata": {
    "collapsed": false
   },
   "outputs": [
    {
     "name": "stdout",
     "output_type": "stream",
     "text": [
      "[[ 1.  5.  1.]\n",
      " [ 2.  6.  1.]\n",
      " [ 3.  4.  5.]]\n"
     ]
    }
   ],
   "source": [
    "data = np.array([[1, 4, 3],\n",
    "    [2, 5, 3],\n",
    "    [3, 6, 3],\n",
    "    [1, 5, 1],\n",
    "    [2, 6, 1],\n",
    "    [3, 4, 5]])\n",
    "n = 6\n",
    "e1 = csaAssign(n,data)\n",
    "print e1"
   ]
  },
  {
   "cell_type": "code",
   "execution_count": 3,
   "metadata": {
    "collapsed": false
   },
   "outputs": [
    {
     "name": "stdout",
     "output_type": "stream",
     "text": [
      "8.185e-02s\n",
      "1000 500225 [  4.00000000e+00   1.00200000e+03   1.00000000e+00]\n"
     ]
    }
   ],
   "source": [
    "n = 1000\n",
    "dg = np.random.rand(n,n)>.5\n",
    "m = np.sum(dg.flat)\n",
    "i = np.array(dg.ravel().nonzero()).astype(float)\n",
    "g1 = 1+np.floor(np.divide(i,n))\n",
    "g2 = (1+np.floor(np.divide(i,n)),\n",
    "     1+ np.mod(i,n)+n,\n",
    "     1+np.floor(np.random.rand(1,m))*1000)\n",
    "g2 = np.array(np.vstack(g2)).T\n",
    "t = time.time()\n",
    "e2 = csaAssign(n*2,g2)\n",
    "print '{:.3e}s'.format(time.time() - t)\n",
    "esum = np.sum(e2,axis=0)\n",
    "if not all(esum[0:2]==(n*(n+1)/2,n*(n+1)/2+n*n)): raise ValueError(\"bug\")\n",
    "if not np.sum(esum[0:2])==(2*n*(2*n+1)/2): raise ValueError(\"bug\")\n",
    "print n,m, e2[3][:]"
   ]
  },
  {
   "cell_type": "code",
   "execution_count": 4,
   "metadata": {
    "collapsed": false,
    "scrolled": false
   },
   "outputs": [
    {
     "name": "stdout",
     "output_type": "stream",
     "text": [
      "n=1 thresh=0.00e+00 1.37e-04s 2 2 0\n",
      "n=1 thresh=1.11e-01 4.20e-05s 1 0 1\n",
      "n=1 thresh=2.22e-01 9.99e-05s 2 2 0\n",
      "n=1 thresh=3.33e-01 5.82e-05s 1 0 1\n",
      "n=1 thresh=4.44e-01 1.37e-04s 2 2 0\n",
      "n=1 thresh=5.56e-01 2.50e-05s 1 0 1\n",
      "n=1 thresh=6.67e-01 4.89e-05s 2 2 0\n",
      "n=1 thresh=7.78e-01 4.01e-05s 0 0 0\n",
      "n=1 thresh=8.89e-01 2.00e-05s 1 0 1\n",
      "n=1 thresh=1.00e+00 4.20e-05s 0 0 0\n",
      "n=2 thresh=0.00e+00 1.20e-04s 8 8 0\n",
      "n=2 thresh=1.11e-01 6.70e-05s 6 4 2\n",
      "n=2 thresh=2.22e-01 7.39e-05s 7 6 1\n",
      "n=2 thresh=3.33e-01 7.01e-05s 6 4 2\n",
      "n=2 thresh=4.44e-01 6.48e-05s 5 2 3\n",
      "n=2 thresh=5.56e-01 7.30e-05s 4 2 2\n",
      "n=2 thresh=6.67e-01 1.05e-04s 4 2 2\n",
      "n=2 thresh=7.78e-01 4.39e-05s 2 0 2\n",
      "n=2 thresh=8.89e-01 7.30e-05s 0 0 0\n",
      "n=2 thresh=1.00e+00 2.31e-05s 0 0 0\n",
      "n=3 thresh=0.00e+00 2.70e-04s 18 18 0\n",
      "n=3 thresh=1.11e-01 2.35e-04s 17 16 1\n",
      "n=3 thresh=2.22e-01 1.33e-04s 14 10 4\n",
      "n=3 thresh=3.33e-01 1.18e-04s 13 10 3\n",
      "n=3 thresh=4.44e-01 1.21e-04s 13 10 3\n",
      "n=3 thresh=5.56e-01 4.60e-05s 8 4 4\n",
      "n=3 thresh=6.67e-01 1.81e-05s 2 0 2\n",
      "n=3 thresh=7.78e-01 3.41e-05s 5 0 5\n",
      "n=3 thresh=8.89e-01 3.50e-05s 2 0 2\n",
      "n=3 thresh=1.00e+00 1.91e-05s 0 0 0\n",
      "n=5 thresh=0.00e+00 5.64e-04s 50 50 0\n",
      "n=5 thresh=1.11e-01 4.23e-04s 44 38 6\n",
      "n=5 thresh=2.22e-01 2.70e-04s 39 28 11\n",
      "n=5 thresh=3.33e-01 2.27e-04s 32 22 10\n",
      "n=5 thresh=4.44e-01 2.02e-04s 24 14 10\n",
      "n=5 thresh=5.56e-01 6.70e-05s 16 2 14\n",
      "n=5 thresh=6.67e-01 8.01e-05s 12 2 10\n",
      "n=5 thresh=7.78e-01 7.20e-05s 13 2 11\n",
      "n=5 thresh=8.89e-01 2.31e-05s 8 0 8\n",
      "n=5 thresh=1.00e+00 1.98e-05s 0 0 0\n",
      "n=8 thresh=0.00e+00 1.78e-03s 128 128 0\n",
      "n=8 thresh=1.11e-01 1.63e-03s 114 100 14\n",
      "n=8 thresh=2.22e-01 1.06e-03s 98 72 26\n",
      "n=8 thresh=3.33e-01 7.55e-04s 92 68 24\n",
      "n=8 thresh=4.44e-01 5.02e-04s 72 44 28\n",
      "n=8 thresh=5.56e-01 3.15e-04s 59 20 39\n",
      "n=8 thresh=6.67e-01 3.12e-04s 46 18 28\n",
      "n=8 thresh=7.78e-01 1.10e-04s 26 4 22\n",
      "n=8 thresh=8.89e-01 1.06e-04s 14 0 14\n",
      "n=8 thresh=1.00e+00 4.20e-05s 0 0 0\n",
      "n=13 thresh=0.00e+00 5.80e-03s 338 338 0\n",
      "n=13 thresh=1.11e-01 3.51e-03s 301 266 35\n",
      "n=13 thresh=2.22e-01 3.09e-03s 276 228 48\n",
      "n=13 thresh=3.33e-01 1.69e-03s 216 142 74\n",
      "n=13 thresh=4.44e-01 1.06e-03s 177 102 75\n",
      "n=13 thresh=5.56e-01 6.63e-04s 140 58 82\n",
      "n=13 thresh=6.67e-01 3.39e-04s 109 32 77\n",
      "n=13 thresh=7.78e-01 1.74e-04s 76 12 64\n",
      "n=13 thresh=8.89e-01 7.70e-05s 41 6 35\n",
      "n=13 thresh=1.00e+00 3.22e-05s 0 0 0\n",
      "n=22 thresh=0.00e+00 1.98e-02s 968 964 4\n",
      "n=22 thresh=1.11e-01 1.79e-02s 871 774 97\n",
      "n=22 thresh=2.22e-01 9.74e-03s 755 594 161\n",
      "n=22 thresh=3.33e-01 5.97e-03s 630 410 220\n",
      "n=22 thresh=4.44e-01 4.30e-03s 540 304 236\n",
      "n=22 thresh=5.56e-01 2.52e-03s 415 186 229\n",
      "n=22 thresh=6.67e-01 1.30e-03s 302 92 210\n",
      "n=22 thresh=7.78e-01 7.70e-04s 234 44 190\n",
      "n=22 thresh=8.89e-01 3.18e-04s 119 14 105\n",
      "n=22 thresh=1.00e+00 1.02e-04s 0 0 0\n",
      "n=36 thresh=0.00e+00 6.50e-02s 2592 2586 6\n",
      "n=36 thresh=1.11e-01 4.56e-02s 2312 2056 256\n",
      "n=36 thresh=2.22e-01 2.97e-02s 2024 1586 438\n",
      "n=36 thresh=3.33e-01 2.62e-02s 1730 1188 542\n",
      "n=36 thresh=4.44e-01 1.69e-02s 1449 790 659\n",
      "n=36 thresh=5.56e-01 9.52e-03s 1151 508 643\n",
      "n=36 thresh=6.67e-01 4.70e-03s 841 282 559\n",
      "n=36 thresh=7.78e-01 1.47e-03s 563 114 449\n",
      "n=36 thresh=8.89e-01 4.51e-04s 296 36 260\n",
      "n=36 thresh=1.00e+00 1.61e-04s 0 0 0\n",
      "n=60 thresh=0.00e+00 2.46e-01s 7200 7186 14\n",
      "n=60 thresh=1.11e-01 2.23e-01s 6390 5674 716\n",
      "n=60 thresh=2.22e-01 1.57e-01s 5637 4386 1251\n",
      "n=60 thresh=3.33e-01 9.90e-02s 4793 3184 1609\n",
      "n=60 thresh=4.44e-01 6.70e-02s 3897 2156 1741\n",
      "n=60 thresh=5.56e-01 4.48e-02s 3223 1394 1829\n",
      "n=60 thresh=6.67e-01 1.91e-02s 2415 844 1571\n",
      "n=60 thresh=7.78e-01 6.31e-03s 1583 360 1223\n",
      "n=60 thresh=8.89e-01 1.24e-03s 791 76 715\n",
      "n=60 thresh=1.00e+00 3.45e-04s 0 0 0\n",
      "n=100 thresh=0.00e+00 7.99e-01s 20000 19938 62\n",
      "n=100 thresh=1.11e-01 5.61e-01s 17715 15668 2047\n",
      "n=100 thresh=2.22e-01 3.91e-01s 15586 12132 3454\n",
      "n=100 thresh=3.33e-01 2.69e-01s 13387 8992 4395\n",
      "n=100 thresh=4.44e-01 1.48e-01s 11173 6220 4953\n",
      "n=100 thresh=5.56e-01 9.96e-02s 8967 3962 5005\n",
      "n=100 thresh=6.67e-01 6.12e-02s 6602 2182 4420\n",
      "n=100 thresh=7.78e-01 1.90e-02s 4395 976 3419\n",
      "n=100 thresh=8.89e-01 5.77e-03s 2276 280 1996\n",
      "n=100 thresh=1.00e+00 9.48e-04s 0 0 0\n"
     ]
    }
   ],
   "source": [
    "for n in np.round(np.logspace(0,2,10)).astype(int):\n",
    "    for thresh in np.linspace(0,1,10):\n",
    "        print 'n={:d} thresh={:1.2e}'.format(n,thresh),\n",
    "        bmap1 = (np.random.rand(n,n)>thresh).astype(float)\n",
    "        bmap2 = (np.random.rand(n,n)>thresh).astype(float)\n",
    "\n",
    "        match1 = zeros_like(bmap1)\n",
    "        match2 = zeros_like(bmap2)\n",
    "        t = time.time()\n",
    "        cost,oc,match1,match2 = correspondPixels(bmap1,bmap2,.005)\n",
    "        print '{:1.2e}s'.format(time.time() - t),\n",
    "        npix = len(bmap1.nonzero()[0]) + len(bmap2.nonzero()[0])\n",
    "        ncor = len(match1.nonzero()[0]) + len(match1.nonzero()[0])\n",
    "        nout = len(((bmap1>0)&(match1==0)).nonzero()[0]) + len(((bmap2>0)&(match2==0)).nonzero()[0])\n",
    "        print npix,ncor,nout\n",
    "        if ncor+nout!=npix: raise ValueError(\"bug\")\n",
    "        match1f = match1.ravel()\n",
    "        idx1 = match1f.astype(int)\n",
    "        a1 = match1f.nonzero()[0]\n",
    "        a2 = match1f[idx1.nonzero()[0]].ravel()\n",
    "        a = vstack((a1,a2)).T\n",
    "\n",
    "\n",
    "        match2f = match2.ravel()\n",
    "        idx2 = match2f.astype(int)\n",
    "        b1 = match2f.nonzero()[0]\n",
    "        b2 = match2f[idx2.nonzero()[0]].ravel()\n",
    "        b = vstack((b2,b1)).T\n",
    "        b = b[b[:,0].argsort(),]\n",
    "        if sum(a-b): raise ValueError(\"bug\")"
   ]
  },
  {
   "cell_type": "code",
   "execution_count": 5,
   "metadata": {
    "collapsed": false
   },
   "outputs": [
    {
     "name": "stdout",
     "output_type": "stream",
     "text": [
      "n=1 thresh=0.00e+00 1.71e-04s 2 + 0 = 2 == 2\n",
      "n=1 thresh=1.00e+00 6.29e-05s 0 + 0 = 0 == 0\n",
      "n=2 thresh=0.00e+00 1.36e-04s 8 + 0 = 8 == 8\n",
      "n=2 thresh=1.00e+00 4.29e-05s 0 + 0 = 0 == 0\n",
      "n=3 thresh=0.00e+00 2.25e-04s 18 + 0 = 18 == 18\n",
      "n=3 thresh=1.00e+00 7.10e-05s 0 + 0 = 0 == 0\n",
      "n=5 thresh=0.00e+00 8.46e-04s 50 + 0 = 50 == 50\n",
      "n=5 thresh=1.00e+00 7.10e-05s 0 + 0 = 0 == 0\n",
      "n=8 thresh=0.00e+00 1.53e-03s 128 + 0 = 128 == 128\n",
      "n=8 thresh=1.00e+00 3.70e-05s 0 + 0 = 0 == 0\n",
      "n=13 thresh=0.00e+00 5.30e-03s 338 + 0 = 338 == 338\n",
      "n=13 thresh=1.00e+00 5.32e-05s 0 + 0 = 0 == 0\n",
      "n=22 thresh=0.00e+00 1.76e-02s 968 + 0 = 968 == 968\n",
      "n=22 thresh=1.00e+00 7.01e-05s 0 + 0 = 0 == 0\n",
      "n=36 thresh=0.00e+00 5.81e-02s 2586 + 6 = 2592 == 2592\n",
      "n=36 thresh=1.00e+00 1.43e-04s 0 + 0 = 0 == 0\n",
      "n=60 thresh=0.00e+00 1.88e-01s 7196 + 4 = 7200 == 7200\n",
      "n=60 thresh=1.00e+00 3.22e-04s 0 + 0 = 0 == 0\n",
      "n=100 thresh=0.00e+00 6.25e-01s 19954 + 46 = 20000 == 20000\n",
      "n=100 thresh=1.00e+00 8.55e-04s 0 + 0 = 0 == 0\n"
     ]
    }
   ],
   "source": [
    "for n in np.round(np.logspace(0,2,10)).astype(int):\n",
    "    for thresh in np.linspace(0,1,2):\n",
    "        print 'n={:d} thresh={:1.2e}'.format(n,thresh),\n",
    "        bmap1 = (np.random.rand(n,n)>thresh).astype(float)\n",
    "        bmap2 = (np.random.rand(n,n)>thresh).astype(float)\n",
    "        t = time.time()\n",
    "        cost,match1,match2 = matchEdgeMaps2D(bmap1,bmap2,.005,100)\n",
    "        print '{:1.2e}s'.format(time.time() - t),\n",
    "        npix = len(bmap1.nonzero()[0]) + len(bmap2.nonzero()[0])\n",
    "        ncor = len(match1.nonzero()[0]) + len(match1.nonzero()[0])\n",
    "        nout = len(((bmap1>0)&(match1==0)).nonzero()[0]) + len(((bmap2>0)&(match2==0)).nonzero()[0])\n",
    "        print ncor,'+',nout,'=',ncor+nout,'==',npix\n",
    "        if ncor+nout!=npix: raise ValueError(\"bug\")\n",
    "        match1f = match1.ravel()\n",
    "        idx1 = match1f.astype(int)\n",
    "        a1 = match1f.nonzero()[0]\n",
    "        a2 = match1f[idx1.nonzero()[0]].ravel()\n",
    "        a = vstack((a1,a2)).T\n",
    "\n",
    "\n",
    "        match2f = match2.ravel()\n",
    "        idx2 = match2f.astype(int)\n",
    "        b1 = match2f.nonzero()[0]\n",
    "        b2 = match2f[idx2.nonzero()[0]].ravel()\n",
    "        b = vstack((b2,b1)).T\n",
    "        b = b[b[:,0].argsort(),]\n",
    "        if sum(a-b): raise ValueError(\"bug\")"
   ]
  },
  {
   "cell_type": "code",
   "execution_count": 8,
   "metadata": {
    "collapsed": false
   },
   "outputs": [
    {
     "name": "stdout",
     "output_type": "stream",
     "text": [
      "n=1 thresh=5.00e-01 0.0001s 2 + 0 = 2 == 2\n",
      "n=1 thresh=6.33e-01 0.0001s 0 + 0 = 0 == 0\n",
      "n=1 thresh=7.67e-01 0.0001s 0 + 0 = 0 == 0\n",
      "n=1 thresh=9.00e-01 0.0001s 0 + 0 = 0 == 0\n",
      "n=4 thresh=5.00e-01 0.0006s 36 + 30 = 66 == 66\n",
      "n=4 thresh=6.33e-01 0.0003s 20 + 29 = 49 == 49\n",
      "n=4 thresh=7.67e-01 0.0003s 8 + 21 = 29 == 29\n",
      "n=4 thresh=9.00e-01 0.0001s 2 + 11 = 13 == 13\n",
      "n=16 thresh=5.00e-01 0.0501s 2076 + 2053 = 4129 == 4129\n",
      "n=16 thresh=6.33e-01 0.0223s 1078 + 1911 = 2989 == 2989\n",
      "n=16 thresh=7.67e-01 0.0074s 418 + 1440 = 1858 == 1858\n",
      "n=16 thresh=9.00e-01 0.0013s 62 + 760 = 822 == 822\n",
      "n=64 thresh=5.00e-01 9.7705s 130856 + 131585 = 262441 == 262441\n",
      "n=64 thresh=6.33e-01 3.9197s 69964 + 121867 = 191831 == 191831\n",
      "n=64 thresh=7.67e-01 1.2064s 29014 + 93693 = 122707 == 122707\n",
      "n=64 thresh=9.00e-01 0.1551s 5130 + 47200 = 52330 == 52330\n"
     ]
    }
   ],
   "source": [
    "for n in np.round(np.logspace(0,6,4,base=2)).astype(int):\n",
    "    for thresh in np.linspace(.5,.9,4):\n",
    "        print 'n={:d} thresh={:1.2e}'.format(n,thresh),\n",
    "        bmap1 = (np.random.rand(n,n,n)>thresh).astype(float)\n",
    "        bmap2 = (np.random.rand(n,n,n)>thresh).astype(float)\n",
    "\n",
    "        t = time.time()\n",
    "        cost,match1,match2 = matchEdgeMaps3D(bmap1,bmap2,.000005,100)\n",
    "        print '{:1.4f}s'.format(time.time() - t),\n",
    "        npix = len(bmap1.nonzero()[0]) + len(bmap2.nonzero()[0])\n",
    "        ncor = len(match1.nonzero()[0]) + len(match1.nonzero()[0])\n",
    "        nout = len(((bmap1>0)&(match1==0)).nonzero()[0]) + len(((bmap2>0)&(match2==0)).nonzero()[0])\n",
    "        print ncor,'+',nout,'=',ncor+nout,'==',npix\n",
    "        if ncor+nout!=npix: raise ValueError(\"bug\")\n",
    "        match1f = match1.ravel()\n",
    "        idx1 = match1f.astype(int)\n",
    "        a1 = match1f.nonzero()[0]\n",
    "        a2 = match1f[idx1.nonzero()[0]].ravel()\n",
    "        a = vstack((a1,a2)).T\n",
    "\n",
    "\n",
    "        match2f = match2.ravel()\n",
    "        idx2 = match2f.astype(int)\n",
    "        b1 = match2f.nonzero()[0]\n",
    "        b2 = match2f[idx2.nonzero()[0]].ravel()\n",
    "        b = vstack((b2,b1)).T\n",
    "        b = b[b[:,0].argsort(),]\n",
    "        if sum(a-b): raise ValueError(\"bug\")"
   ]
  },
  {
   "cell_type": "code",
   "execution_count": null,
   "metadata": {
    "collapsed": true
   },
   "outputs": [],
   "source": []
  },
  {
   "cell_type": "code",
   "execution_count": null,
   "metadata": {
    "collapsed": true
   },
   "outputs": [],
   "source": []
  }
 ],
 "metadata": {
  "kernelspec": {
   "display_name": "Python 2",
   "language": "python",
   "name": "python2"
  },
  "language_info": {
   "codemirror_mode": {
    "name": "ipython",
    "version": 2
   },
   "file_extension": ".py",
   "mimetype": "text/x-python",
   "name": "python",
   "nbconvert_exporter": "python",
   "pygments_lexer": "ipython2",
   "version": "2.7.9"
  }
 },
 "nbformat": 4,
 "nbformat_minor": 0
}
