{
 "cells": [
  {
   "cell_type": "code",
   "execution_count": 1,
   "metadata": {
    "collapsed": false,
    "scrolled": false
   },
   "outputs": [
    {
     "name": "stdout",
     "output_type": "stream",
     "text": [
      "Populating the interactive namespace from numpy and matplotlib\n"
     ]
    }
   ],
   "source": [
    "%pylab inline\n",
    "import time\n",
    "import numpy as np\n",
    "from segbench import csaAssign, correspondPixels, matchEdgeMaps2D, matchEdgeMaps3D"
   ]
  },
  {
   "cell_type": "code",
   "execution_count": 2,
   "metadata": {
    "collapsed": false
   },
   "outputs": [
    {
     "name": "stdout",
     "output_type": "stream",
     "text": [
      "[[ 1.  5.  1.]\n",
      " [ 2.  6.  1.]\n",
      " [ 3.  4.  5.]]\n"
     ]
    }
   ],
   "source": [
    "data = np.array([[1, 4, 3],\n",
    "    [2, 5, 3],\n",
    "    [3, 6, 3],\n",
    "    [1, 5, 1],\n",
    "    [2, 6, 1],\n",
    "    [3, 4, 5]])\n",
    "n = 6\n",
    "e1 = csaAssign(n,data)\n",
    "print e1"
   ]
  },
  {
   "cell_type": "code",
   "execution_count": 3,
   "metadata": {
    "collapsed": false
   },
   "outputs": [
    {
     "name": "stdout",
     "output_type": "stream",
     "text": [
      "9.223e-02s\n",
      "1000 499843 [  4.00000000e+00   2.00000000e+03   1.00000000e+00]\n"
     ]
    }
   ],
   "source": [
    "n = 1000\n",
    "dg = np.random.rand(n,n)>.5\n",
    "m = np.sum(dg.flat)\n",
    "i = np.array(dg.ravel().nonzero()).astype(float)\n",
    "g1 = 1+np.floor(np.divide(i,n))\n",
    "g2 = (1+np.floor(np.divide(i,n)),\n",
    "     1+ np.mod(i,n)+n,\n",
    "     1+np.floor(np.random.rand(1,m))*1000)\n",
    "g2 = np.array(np.vstack(g2)).T\n",
    "t = time.time()\n",
    "e2 = csaAssign(n*2,g2)\n",
    "print '{:.3e}s'.format(time.time() - t)\n",
    "esum = np.sum(e2,axis=0)\n",
    "if not all(esum[0:2]==(n*(n+1)/2,n*(n+1)/2+n*n)): raise ValueError(\"bug\")\n",
    "if not np.sum(esum[0:2])==(2*n*(2*n+1)/2): raise ValueError(\"bug\")\n",
    "print n,m, e2[3][:]"
   ]
  },
  {
   "cell_type": "code",
   "execution_count": 4,
   "metadata": {
    "collapsed": false,
    "scrolled": false
   },
   "outputs": [
    {
     "name": "stdout",
     "output_type": "stream",
     "text": [
      "n=1 thresh=0.00e+00 2.22e-04s 2 2 0\n",
      "n=1 thresh=1.11e-01 9.11e-05s 2 2 0\n",
      "n=1 thresh=2.22e-01 2.91e-05s 1 0 1\n",
      "n=1 thresh=3.33e-01 4.79e-05s 2 2 0\n",
      "n=1 thresh=4.44e-01 3.50e-05s 1 0 1\n",
      "n=1 thresh=5.56e-01 1.81e-05s 0 0 0\n",
      "n=1 thresh=6.67e-01 1.69e-05s 0 0 0\n",
      "n=1 thresh=7.78e-01 1.62e-05s 0 0 0\n",
      "n=1 thresh=8.89e-01 1.81e-05s 0 0 0\n",
      "n=1 thresh=1.00e+00 1.62e-05s 0 0 0\n",
      "n=2 thresh=0.00e+00 8.58e-05s 8 8 0\n",
      "n=2 thresh=1.11e-01 4.60e-05s 6 4 2\n",
      "n=2 thresh=2.22e-01 5.51e-05s 7 6 1\n",
      "n=2 thresh=3.33e-01 4.51e-05s 6 4 2\n",
      "n=2 thresh=4.44e-01 4.01e-05s 6 4 2\n",
      "n=2 thresh=5.56e-01 1.91e-05s 3 0 3\n",
      "n=2 thresh=6.67e-01 1.79e-05s 3 0 3\n",
      "n=2 thresh=7.78e-01 1.69e-05s 1 0 1\n",
      "n=2 thresh=8.89e-01 1.60e-05s 0 0 0\n",
      "n=2 thresh=1.00e+00 1.60e-05s 0 0 0\n",
      "n=3 thresh=0.00e+00 2.53e-04s 18 18 0\n",
      "n=3 thresh=1.11e-01 2.59e-04s 17 16 1\n",
      "n=3 thresh=2.22e-01 1.10e-04s 15 12 3\n",
      "n=3 thresh=3.33e-01 7.51e-05s 13 8 5\n",
      "n=3 thresh=4.44e-01 1.88e-05s 7 0 7\n",
      "n=3 thresh=5.56e-01 1.81e-05s 8 0 8\n",
      "n=3 thresh=6.67e-01 4.39e-05s 6 2 4\n",
      "n=3 thresh=7.78e-01 5.58e-05s 9 6 3\n",
      "n=3 thresh=8.89e-01 1.69e-05s 1 0 1\n",
      "n=3 thresh=1.00e+00 1.60e-05s 0 0 0\n",
      "n=5 thresh=0.00e+00 5.16e-04s 50 50 0\n",
      "n=5 thresh=1.11e-01 3.21e-04s 42 34 8\n",
      "n=5 thresh=2.22e-01 2.60e-04s 37 26 11\n",
      "n=5 thresh=3.33e-01 1.74e-04s 30 16 14\n",
      "n=5 thresh=4.44e-01 2.03e-04s 31 20 11\n",
      "n=5 thresh=5.56e-01 7.89e-05s 24 8 16\n",
      "n=5 thresh=6.67e-01 7.80e-05s 20 8 12\n",
      "n=5 thresh=7.78e-01 5.89e-05s 15 4 11\n",
      "n=5 thresh=8.89e-01 4.29e-05s 4 2 2\n",
      "n=5 thresh=1.00e+00 1.79e-05s 0 0 0\n",
      "n=8 thresh=0.00e+00 1.59e-03s 128 128 0\n",
      "n=8 thresh=1.11e-01 1.45e-03s 116 106 10\n",
      "n=8 thresh=2.22e-01 9.00e-04s 93 70 23\n",
      "n=8 thresh=3.33e-01 4.86e-04s 80 48 32\n",
      "n=8 thresh=4.44e-01 3.78e-04s 67 42 25\n",
      "n=8 thresh=5.56e-01 3.02e-04s 60 34 26\n",
      "n=8 thresh=6.67e-01 1.22e-04s 36 12 24\n",
      "n=8 thresh=7.78e-01 1.19e-04s 30 12 18\n",
      "n=8 thresh=8.89e-01 2.29e-05s 19 0 19\n",
      "n=8 thresh=1.00e+00 2.19e-05s 0 0 0\n",
      "n=13 thresh=0.00e+00 4.86e-03s 338 336 2\n",
      "n=13 thresh=1.11e-01 3.01e-03s 302 268 34\n",
      "n=13 thresh=2.22e-01 2.39e-03s 272 220 52\n",
      "n=13 thresh=3.33e-01 2.44e-03s 241 176 65\n",
      "n=13 thresh=4.44e-01 1.27e-03s 192 108 84\n",
      "n=13 thresh=5.56e-01 5.79e-04s 141 54 87\n",
      "n=13 thresh=6.67e-01 3.70e-04s 111 40 71\n",
      "n=13 thresh=7.78e-01 1.21e-04s 69 10 59\n",
      "n=13 thresh=8.89e-01 6.60e-05s 41 4 37\n",
      "n=13 thresh=1.00e+00 3.19e-05s 0 0 0\n",
      "n=22 thresh=0.00e+00 1.75e-02s 968 964 4\n",
      "n=22 thresh=1.11e-01 1.57e-02s 856 744 112\n",
      "n=22 thresh=2.22e-01 7.56e-03s 734 546 188\n",
      "n=22 thresh=3.33e-01 7.97e-03s 667 464 203\n",
      "n=22 thresh=4.44e-01 4.46e-03s 539 308 231\n",
      "n=22 thresh=5.56e-01 2.76e-03s 434 188 246\n",
      "n=22 thresh=6.67e-01 1.71e-03s 351 130 221\n",
      "n=22 thresh=7.78e-01 4.80e-04s 193 44 149\n",
      "n=22 thresh=8.89e-01 9.99e-05s 112 4 108\n",
      "n=22 thresh=1.00e+00 5.82e-05s 0 0 0\n",
      "n=36 thresh=0.00e+00 5.82e-02s 2592 2590 2\n",
      "n=36 thresh=1.11e-01 5.07e-02s 2319 2072 247\n",
      "n=36 thresh=2.22e-01 2.83e-02s 1979 1500 479\n",
      "n=36 thresh=3.33e-01 1.91e-02s 1702 1126 576\n",
      "n=36 thresh=4.44e-01 1.24e-02s 1456 812 644\n",
      "n=36 thresh=5.56e-01 8.83e-03s 1189 528 661\n",
      "n=36 thresh=6.67e-01 4.45e-03s 842 276 566\n",
      "n=36 thresh=7.78e-01 2.40e-03s 593 142 451\n",
      "n=36 thresh=8.89e-01 8.35e-04s 311 36 275\n",
      "n=36 thresh=1.00e+00 2.08e-04s 0 0 0\n",
      "n=60 thresh=0.00e+00 2.02e-01s 7200 7190 10\n",
      "n=60 thresh=1.11e-01 1.44e-01s 6417 5710 707\n",
      "n=60 thresh=2.22e-01 1.08e-01s 5624 4386 1238\n",
      "n=60 thresh=3.33e-01 8.17e-02s 4897 3284 1613\n",
      "n=60 thresh=4.44e-01 5.32e-02s 3977 2160 1817\n",
      "n=60 thresh=5.56e-01 3.10e-02s 3148 1384 1764\n",
      "n=60 thresh=6.67e-01 1.57e-02s 2408 802 1606\n",
      "n=60 thresh=7.78e-01 5.67e-03s 1608 392 1216\n",
      "n=60 thresh=8.89e-01 1.65e-03s 847 94 753\n",
      "n=60 thresh=1.00e+00 3.25e-04s 0 0 0\n",
      "n=100 thresh=0.00e+00 7.58e-01s 20000 19946 54\n",
      "n=100 thresh=1.11e-01 5.69e-01s 17841 15872 1969\n",
      "n=100 thresh=2.22e-01 4.09e-01s 15527 12020 3507\n",
      "n=100 thresh=3.33e-01 2.72e-01s 13237 8718 4519\n",
      "n=100 thresh=4.44e-01 1.65e-01s 11207 6250 4957\n",
      "n=100 thresh=5.56e-01 1.13e-01s 8848 3906 4942\n",
      "n=100 thresh=6.67e-01 5.86e-02s 6643 2270 4373\n",
      "n=100 thresh=7.78e-01 2.23e-02s 4514 1006 3508\n",
      "n=100 thresh=8.89e-01 3.99e-03s 2189 230 1959\n",
      "n=100 thresh=1.00e+00 9.12e-04s 0 0 0\n"
     ]
    }
   ],
   "source": [
    "for n in np.round(np.logspace(0,2,10)).astype(int):\n",
    "    for thresh in np.linspace(0,1,10):\n",
    "        print 'n={:d} thresh={:1.2e}'.format(n,thresh),\n",
    "        bmap1 = (np.random.rand(n,n)>thresh).astype(float)\n",
    "        bmap2 = (np.random.rand(n,n)>thresh).astype(float)\n",
    "\n",
    "        match1 = zeros_like(bmap1)\n",
    "        match2 = zeros_like(bmap2)\n",
    "        t = time.time()\n",
    "        cost,oc,match1,match2 = correspondPixels(bmap1,bmap2,.005)\n",
    "        print '{:1.2e}s'.format(time.time() - t),\n",
    "        npix = len(bmap1.nonzero()[0]) + len(bmap2.nonzero()[0])\n",
    "        ncor = len(match1.nonzero()[0]) + len(match1.nonzero()[0])\n",
    "        nout = len(((bmap1>0)&(match1==0)).nonzero()[0]) + len(((bmap2>0)&(match2==0)).nonzero()[0])\n",
    "        print npix,ncor,nout\n",
    "        if ncor+nout!=npix: raise ValueError(\"bug\")\n",
    "        match1f = match1.ravel()\n",
    "        idx1 = match1f.astype(int)\n",
    "        a1 = match1f.nonzero()[0]\n",
    "        a2 = match1f[idx1.nonzero()[0]].ravel()\n",
    "        a = vstack((a1,a2)).T\n",
    "\n",
    "\n",
    "        match2f = match2.ravel()\n",
    "        idx2 = match2f.astype(int)\n",
    "        b1 = match2f.nonzero()[0]\n",
    "        b2 = match2f[idx2.nonzero()[0]].ravel()\n",
    "        b = vstack((b2,b1)).T\n",
    "        b = b[b[:,0].argsort(),]\n",
    "        if sum(a-b): raise ValueError(\"bug\")"
   ]
  },
  {
   "cell_type": "code",
   "execution_count": 5,
   "metadata": {
    "collapsed": false
   },
   "outputs": [
    {
     "name": "stdout",
     "output_type": "stream",
     "text": [
      "n=1 thresh=0.00e+00 7.30e-05s 2 + 0 = 2 == 2\n",
      "n=1 thresh=1.00e+00 2.31e-05s 0 + 0 = 0 == 0\n",
      "n=2 thresh=0.00e+00 8.70e-05s 8 + 0 = 8 == 8\n",
      "n=2 thresh=1.00e+00 2.29e-05s 0 + 0 = 0 == 0\n",
      "n=3 thresh=0.00e+00 1.94e-04s 18 + 0 = 18 == 18\n",
      "n=3 thresh=1.00e+00 2.29e-05s 0 + 0 = 0 == 0\n",
      "n=5 thresh=0.00e+00 6.42e-04s 50 + 0 = 50 == 50\n",
      "n=5 thresh=1.00e+00 2.91e-05s 0 + 0 = 0 == 0\n",
      "n=8 thresh=0.00e+00 1.60e-03s 128 + 0 = 128 == 128\n",
      "n=8 thresh=1.00e+00 3.10e-05s 0 + 0 = 0 == 0\n",
      "n=13 thresh=0.00e+00 5.57e-03s 338 + 0 = 338 == 338\n",
      "n=13 thresh=1.00e+00 8.49e-05s 0 + 0 = 0 == 0\n",
      "n=22 thresh=0.00e+00 1.85e-02s 966 + 2 = 968 == 968\n",
      "n=22 thresh=1.00e+00 6.99e-05s 0 + 0 = 0 == 0\n",
      "n=36 thresh=0.00e+00 5.59e-02s 2582 + 10 = 2592 == 2592\n",
      "n=36 thresh=1.00e+00 1.35e-04s 0 + 0 = 0 == 0\n",
      "n=60 thresh=0.00e+00 1.99e-01s 7180 + 20 = 7200 == 7200\n",
      "n=60 thresh=1.00e+00 3.33e-04s 0 + 0 = 0 == 0\n",
      "n=100 thresh=0.00e+00 6.26e-01s 19948 + 52 = 20000 == 20000\n",
      "n=100 thresh=1.00e+00 8.81e-04s 0 + 0 = 0 == 0\n"
     ]
    }
   ],
   "source": [
    "for n in np.round(np.logspace(0,2,10)).astype(int):\n",
    "    for thresh in np.linspace(0,1,2):\n",
    "        print 'n={:d} thresh={:1.2e}'.format(n,thresh),\n",
    "        bmap1 = (np.random.rand(n,n)>thresh).astype(float)\n",
    "        bmap2 = (np.random.rand(n,n)>thresh).astype(float)\n",
    "        t = time.time()\n",
    "        cost,match1,match2 = matchEdgeMaps2D(bmap1,bmap2,.005,100)\n",
    "        print '{:1.2e}s'.format(time.time() - t),\n",
    "        npix = len(bmap1.nonzero()[0]) + len(bmap2.nonzero()[0])\n",
    "        ncor = len(match1.nonzero()[0]) + len(match1.nonzero()[0])\n",
    "        nout = len(((bmap1>0)&(match1==0)).nonzero()[0]) + len(((bmap2>0)&(match2==0)).nonzero()[0])\n",
    "        print ncor,'+',nout,'=',ncor+nout,'==',npix\n",
    "        if ncor+nout!=npix: raise ValueError(\"bug\")\n",
    "        match1f = match1.ravel()\n",
    "        idx1 = match1f.astype(int)\n",
    "        a1 = match1f.nonzero()[0]\n",
    "        a2 = match1f[idx1.nonzero()[0]].ravel()\n",
    "        a = vstack((a1,a2)).T\n",
    "\n",
    "\n",
    "        match2f = match2.ravel()\n",
    "        idx2 = match2f.astype(int)\n",
    "        b1 = match2f.nonzero()[0]\n",
    "        b2 = match2f[idx2.nonzero()[0]].ravel()\n",
    "        b = vstack((b2,b1)).T\n",
    "        b = b[b[:,0].argsort(),]\n",
    "        if sum(a-b): raise ValueError(\"bug\")"
   ]
  },
  {
   "cell_type": "code",
   "execution_count": 6,
   "metadata": {
    "collapsed": false
   },
   "outputs": [
    {
     "name": "stdout",
     "output_type": "stream",
     "text": [
      "Populating the interactive namespace from numpy and matplotlib\n"
     ]
    },
    {
     "ename": "ImportError",
     "evalue": "cannot import name matchEdgeMaps3D2",
     "output_type": "error",
     "traceback": [
      "\u001b[0;31m---------------------------------------------------------------------------\u001b[0m",
      "\u001b[0;31mImportError\u001b[0m                               Traceback (most recent call last)",
      "\u001b[0;32m<ipython-input-6-a8047b7fc42e>\u001b[0m in \u001b[0;36m<module>\u001b[0;34m()\u001b[0m\n\u001b[1;32m      2\u001b[0m \u001b[0;32mimport\u001b[0m \u001b[0mtime\u001b[0m\u001b[0;34m\u001b[0m\u001b[0m\n\u001b[1;32m      3\u001b[0m \u001b[0;32mimport\u001b[0m \u001b[0mnumpy\u001b[0m \u001b[0;32mas\u001b[0m \u001b[0mnp\u001b[0m\u001b[0;34m\u001b[0m\u001b[0m\n\u001b[0;32m----> 4\u001b[0;31m \u001b[0;32mfrom\u001b[0m \u001b[0msegbench\u001b[0m \u001b[0;32mimport\u001b[0m \u001b[0mcsaAssign\u001b[0m\u001b[0;34m,\u001b[0m \u001b[0mcorrespondPixels\u001b[0m\u001b[0;34m,\u001b[0m \u001b[0mmatchEdgeMaps2D\u001b[0m\u001b[0;34m,\u001b[0m \u001b[0mmatchEdgeMaps3D2\u001b[0m\u001b[0;34m\u001b[0m\u001b[0m\n\u001b[0m\u001b[1;32m      5\u001b[0m \u001b[0;32mfor\u001b[0m \u001b[0mn\u001b[0m \u001b[0;32min\u001b[0m \u001b[0mnp\u001b[0m\u001b[0;34m.\u001b[0m\u001b[0mround\u001b[0m\u001b[0;34m(\u001b[0m\u001b[0mnp\u001b[0m\u001b[0;34m.\u001b[0m\u001b[0mlogspace\u001b[0m\u001b[0;34m(\u001b[0m\u001b[0;36m0\u001b[0m\u001b[0;34m,\u001b[0m\u001b[0;36m6\u001b[0m\u001b[0;34m,\u001b[0m\u001b[0;36m4\u001b[0m\u001b[0;34m,\u001b[0m\u001b[0mbase\u001b[0m\u001b[0;34m=\u001b[0m\u001b[0;36m2\u001b[0m\u001b[0;34m)\u001b[0m\u001b[0;34m)\u001b[0m\u001b[0;34m.\u001b[0m\u001b[0mastype\u001b[0m\u001b[0;34m(\u001b[0m\u001b[0mint\u001b[0m\u001b[0;34m)\u001b[0m\u001b[0;34m:\u001b[0m\u001b[0;34m\u001b[0m\u001b[0m\n\u001b[1;32m      6\u001b[0m     \u001b[0;32mfor\u001b[0m \u001b[0mthresh\u001b[0m \u001b[0;32min\u001b[0m \u001b[0mnp\u001b[0m\u001b[0;34m.\u001b[0m\u001b[0mlinspace\u001b[0m\u001b[0;34m(\u001b[0m\u001b[0;36m.1\u001b[0m\u001b[0;34m,\u001b[0m\u001b[0;36m.8\u001b[0m\u001b[0;34m,\u001b[0m\u001b[0;36m4\u001b[0m\u001b[0;34m)\u001b[0m\u001b[0;34m:\u001b[0m\u001b[0;34m\u001b[0m\u001b[0m\n",
      "\u001b[0;31mImportError\u001b[0m: cannot import name matchEdgeMaps3D2"
     ]
    }
   ],
   "source": [
    "%pylab inline\n",
    "import time\n",
    "import numpy as np\n",
    "from segbench import csaAssign, correspondPixels, matchEdgeMaps2D, matchEdgeMaps3D2\n",
    "for n in np.round(np.logspace(0,6,4,base=2)).astype(int):\n",
    "    for thresh in np.linspace(.1,.8,4):\n",
    "        print 'n={:d} thresh={:1.2e}'.format(n,thresh),\n",
    "        bmap1 = (np.random.rand(n,n,n)>thresh).astype(float)\n",
    "        bmap2 = (np.random.rand(n,n,n)>thresh).astype(float)\n",
    "\n",
    "        t = time.time()\n",
    "        cost,match1,match2 = matchEdgeMaps3D2(bmap1,bmap2,.000005,100)\n",
    "        print '{:1.4f}s'.format(time.time() - t),\n",
    "        npix = len(bmap1.nonzero()[0]) + len(bmap2.nonzero()[0])\n",
    "        ncor = len(match1.nonzero()[0]) + len(match1.nonzero()[0])\n",
    "        nout = len(((bmap1>0)&(match1==0)).nonzero()[0]) + len(((bmap2>0)&(match2==0)).nonzero()[0])\n",
    "        print ncor,'+',nout,'=',ncor+nout,'==',npix\n",
    "        if ncor+nout!=npix: raise ValueError(\"bug\")\n",
    "        match1f = match1.ravel()\n",
    "        idx1 = match1f.astype(int)\n",
    "        a1 = match1f.nonzero()[0]\n",
    "        a2 = match1f[idx1.nonzero()[0]].ravel()\n",
    "        a = vstack((a1,a2)).T\n",
    "\n",
    "\n",
    "        match2f = match2.ravel()\n",
    "        idx2 = match2f.astype(int)\n",
    "        b1 = match2f.nonzero()[0]\n",
    "        b2 = match2f[idx2.nonzero()[0]].ravel()\n",
    "        b = vstack((b2,b1)).T\n",
    "        b = b[b[:,0].argsort(),]\n",
    "        if sum(a-b): raise ValueError(\"bug\")"
   ]
  },
  {
   "cell_type": "code",
   "execution_count": null,
   "metadata": {
    "collapsed": true
   },
   "outputs": [],
   "source": []
  }
 ],
 "metadata": {
  "kernelspec": {
   "display_name": "Python 2",
   "language": "python",
   "name": "python2"
  },
  "language_info": {
   "codemirror_mode": {
    "name": "ipython",
    "version": 2
   },
   "file_extension": ".py",
   "mimetype": "text/x-python",
   "name": "python",
   "nbconvert_exporter": "python",
   "pygments_lexer": "ipython2",
   "version": "2.7.9"
  }
 },
 "nbformat": 4,
 "nbformat_minor": 0
}
